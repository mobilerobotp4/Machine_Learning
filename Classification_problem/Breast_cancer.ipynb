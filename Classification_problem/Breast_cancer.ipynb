{
 "cells": [
  {
   "cell_type": "markdown",
   "id": "070c1b26-f6fd-4c70-aa8f-002bf1dd6efb",
   "metadata": {},
   "source": [
    "Breast_cancer dataset: Number of instances: 4024, Class label = Status, Binary class problem. Imbalanced dataset, Class values: Alive(0) and dead(1)\n",
    "Number of instances for Alive = 3408, No. of instances for Dead = 616, imbalanced ratio: 5:1 Class of interest dead which is the minority class. \n",
    "No missing values found in the dataset. \n",
    "stratify training test split. Training data 80% (3219 instances, among which 2726 is Alive(0) and  493 is Dead(1) )\n",
    "                              Test data 20% (805 instances, among which 682 is Alive(0) and 123 is dead(1) )\n",
    "One hot encoding has been used to pad categorical data"
   ]
  },
  {
   "cell_type": "markdown",
   "id": "e8d62677-64c1-4574-b22d-c8ca3e24aacb",
   "metadata": {},
   "source": [
    "Importing important libaries "
   ]
  },
  {
   "cell_type": "code",
   "execution_count": 16,
   "id": "370fb367-1233-4d77-838a-f2903b50f517",
   "metadata": {},
   "outputs": [],
   "source": [
    "import pandas as pd\n",
    "import numpy as np\n",
    "from collections import Counter\n",
    "from sklearn.preprocessing import LabelEncoder\n",
    "from category_encoders import OneHotEncoder\n",
    "from sklearn.preprocessing import StandardScaler, MinMaxScaler\n",
    "from sklearn.model_selection import train_test_split\n",
    "from sklearn.metrics import confusion_matrix,accuracy_score,precision_score,recall_score,f1_score\n",
    "from sklearn.metrics import classification_report\n",
    "from sklearn.ensemble import RandomForestClassifier\n",
    "from sklearn.linear_model import LogisticRegression\n",
    "from sklearn.neural_network import MLPClassifier\n",
    "from sklearn.ensemble import BaggingClassifier\n",
    "from sklearn.naive_bayes import BernoulliNB\n",
    "from sklearn.naive_bayes import GaussianNB\n",
    "import matplotlib.pyplot as plt\n",
    "import seaborn as sns\n",
    "from sklearn.metrics import confusion_matrix\n",
    "from sklearn.feature_selection import SelectKBest\n",
    "from sklearn.feature_selection import chi2\n",
    "from matplotlib import pyplot"
   ]
  },
  {
   "cell_type": "code",
   "execution_count": 2,
   "id": "12b6a212-930b-4802-a599-46bf756d82fc",
   "metadata": {},
   "outputs": [],
   "source": [
    "df = pd.read_csv(\"D:\\Thesis\\Dataset\\Breast cancer categorical Kaggle dataset\\Breast_Cancer.csv\")"
   ]
  },
  {
   "cell_type": "markdown",
   "id": "9432803c-1b9a-4f14-9a84-c4567eefb490",
   "metadata": {},
   "source": [
    "Display dataset"
   ]
  },
  {
   "cell_type": "code",
   "execution_count": 3,
   "id": "c09639af-fa0b-4d04-8ff8-9084d6670b96",
   "metadata": {},
   "outputs": [
    {
     "data": {
      "text/html": [
       "<div>\n",
       "<style scoped>\n",
       "    .dataframe tbody tr th:only-of-type {\n",
       "        vertical-align: middle;\n",
       "    }\n",
       "\n",
       "    .dataframe tbody tr th {\n",
       "        vertical-align: top;\n",
       "    }\n",
       "\n",
       "    .dataframe thead th {\n",
       "        text-align: right;\n",
       "    }\n",
       "</style>\n",
       "<table border=\"1\" class=\"dataframe\">\n",
       "  <thead>\n",
       "    <tr style=\"text-align: right;\">\n",
       "      <th></th>\n",
       "      <th>Age</th>\n",
       "      <th>Race</th>\n",
       "      <th>Marital Status</th>\n",
       "      <th>T Stage</th>\n",
       "      <th>N Stage</th>\n",
       "      <th>6th Stage</th>\n",
       "      <th>differentiate</th>\n",
       "      <th>Grade</th>\n",
       "      <th>A Stage</th>\n",
       "      <th>Tumor Size</th>\n",
       "      <th>Estrogen Status</th>\n",
       "      <th>Progesterone Status</th>\n",
       "      <th>Regional Node Examined</th>\n",
       "      <th>Reginol Node Positive</th>\n",
       "      <th>Survival Months</th>\n",
       "      <th>Status</th>\n",
       "    </tr>\n",
       "  </thead>\n",
       "  <tbody>\n",
       "    <tr>\n",
       "      <th>0</th>\n",
       "      <td>68</td>\n",
       "      <td>White</td>\n",
       "      <td>Married</td>\n",
       "      <td>T1</td>\n",
       "      <td>N1</td>\n",
       "      <td>IIA</td>\n",
       "      <td>Poorly differentiated</td>\n",
       "      <td>3</td>\n",
       "      <td>Regional</td>\n",
       "      <td>4</td>\n",
       "      <td>Positive</td>\n",
       "      <td>Positive</td>\n",
       "      <td>24</td>\n",
       "      <td>1</td>\n",
       "      <td>60</td>\n",
       "      <td>Alive</td>\n",
       "    </tr>\n",
       "    <tr>\n",
       "      <th>1</th>\n",
       "      <td>50</td>\n",
       "      <td>White</td>\n",
       "      <td>Married</td>\n",
       "      <td>T2</td>\n",
       "      <td>N2</td>\n",
       "      <td>IIIA</td>\n",
       "      <td>Moderately differentiated</td>\n",
       "      <td>2</td>\n",
       "      <td>Regional</td>\n",
       "      <td>35</td>\n",
       "      <td>Positive</td>\n",
       "      <td>Positive</td>\n",
       "      <td>14</td>\n",
       "      <td>5</td>\n",
       "      <td>62</td>\n",
       "      <td>Alive</td>\n",
       "    </tr>\n",
       "    <tr>\n",
       "      <th>2</th>\n",
       "      <td>58</td>\n",
       "      <td>White</td>\n",
       "      <td>Divorced</td>\n",
       "      <td>T3</td>\n",
       "      <td>N3</td>\n",
       "      <td>IIIC</td>\n",
       "      <td>Moderately differentiated</td>\n",
       "      <td>2</td>\n",
       "      <td>Regional</td>\n",
       "      <td>63</td>\n",
       "      <td>Positive</td>\n",
       "      <td>Positive</td>\n",
       "      <td>14</td>\n",
       "      <td>7</td>\n",
       "      <td>75</td>\n",
       "      <td>Alive</td>\n",
       "    </tr>\n",
       "    <tr>\n",
       "      <th>3</th>\n",
       "      <td>58</td>\n",
       "      <td>White</td>\n",
       "      <td>Married</td>\n",
       "      <td>T1</td>\n",
       "      <td>N1</td>\n",
       "      <td>IIA</td>\n",
       "      <td>Poorly differentiated</td>\n",
       "      <td>3</td>\n",
       "      <td>Regional</td>\n",
       "      <td>18</td>\n",
       "      <td>Positive</td>\n",
       "      <td>Positive</td>\n",
       "      <td>2</td>\n",
       "      <td>1</td>\n",
       "      <td>84</td>\n",
       "      <td>Alive</td>\n",
       "    </tr>\n",
       "    <tr>\n",
       "      <th>4</th>\n",
       "      <td>47</td>\n",
       "      <td>White</td>\n",
       "      <td>Married</td>\n",
       "      <td>T2</td>\n",
       "      <td>N1</td>\n",
       "      <td>IIB</td>\n",
       "      <td>Poorly differentiated</td>\n",
       "      <td>3</td>\n",
       "      <td>Regional</td>\n",
       "      <td>41</td>\n",
       "      <td>Positive</td>\n",
       "      <td>Positive</td>\n",
       "      <td>3</td>\n",
       "      <td>1</td>\n",
       "      <td>50</td>\n",
       "      <td>Alive</td>\n",
       "    </tr>\n",
       "  </tbody>\n",
       "</table>\n",
       "</div>"
      ],
      "text/plain": [
       "   Age   Race Marital Status T Stage  N Stage 6th Stage  \\\n",
       "0   68  White        Married       T1      N1       IIA   \n",
       "1   50  White        Married       T2      N2      IIIA   \n",
       "2   58  White       Divorced       T3      N3      IIIC   \n",
       "3   58  White        Married       T1      N1       IIA   \n",
       "4   47  White        Married       T2      N1       IIB   \n",
       "\n",
       "               differentiate Grade   A Stage  Tumor Size Estrogen Status  \\\n",
       "0      Poorly differentiated     3  Regional           4        Positive   \n",
       "1  Moderately differentiated     2  Regional          35        Positive   \n",
       "2  Moderately differentiated     2  Regional          63        Positive   \n",
       "3      Poorly differentiated     3  Regional          18        Positive   \n",
       "4      Poorly differentiated     3  Regional          41        Positive   \n",
       "\n",
       "  Progesterone Status  Regional Node Examined  Reginol Node Positive  \\\n",
       "0            Positive                      24                      1   \n",
       "1            Positive                      14                      5   \n",
       "2            Positive                      14                      7   \n",
       "3            Positive                       2                      1   \n",
       "4            Positive                       3                      1   \n",
       "\n",
       "   Survival Months Status  \n",
       "0               60  Alive  \n",
       "1               62  Alive  \n",
       "2               75  Alive  \n",
       "3               84  Alive  \n",
       "4               50  Alive  "
      ]
     },
     "execution_count": 3,
     "metadata": {},
     "output_type": "execute_result"
    }
   ],
   "source": [
    "df.head()"
   ]
  },
  {
   "cell_type": "code",
   "execution_count": 28,
   "id": "1dcbbf1b-7e8f-48a9-9f80-39119cf55a90",
   "metadata": {},
   "outputs": [
    {
     "data": {
      "text/plain": [
       "Age                       0\n",
       "Race                      0\n",
       "Marital Status            0\n",
       "T Stage                   0\n",
       "N Stage                   0\n",
       "6th Stage                 0\n",
       "differentiate             0\n",
       "Grade                     0\n",
       "A Stage                   0\n",
       "Tumor Size                0\n",
       "Estrogen Status           0\n",
       "Progesterone Status       0\n",
       "Regional Node Examined    0\n",
       "Reginol Node Positive     0\n",
       "Survival Months           0\n",
       "Status                    0\n",
       "dtype: int64"
      ]
     },
     "execution_count": 28,
     "metadata": {},
     "output_type": "execute_result"
    }
   ],
   "source": [
    "df.isnull().sum()"
   ]
  },
  {
   "cell_type": "markdown",
   "id": "1d8c3afa-7a99-481d-8f51-238b3960c055",
   "metadata": {},
   "source": [
    "Change the target value into 0 and 1 using label encoder, Alive =0, Dead = 1"
   ]
  },
  {
   "cell_type": "code",
   "execution_count": 4,
   "id": "394f4041-07cf-4645-b520-434315c2b0a7",
   "metadata": {},
   "outputs": [],
   "source": [
    "le = LabelEncoder()\n",
    "df['Status'] = le.fit_transform(df['Status'])"
   ]
  },
  {
   "cell_type": "markdown",
   "id": "a8356be3-d2e6-4a48-b3f0-47d4135e6140",
   "metadata": {},
   "source": [
    "Display Dataset"
   ]
  },
  {
   "cell_type": "code",
   "execution_count": 5,
   "id": "6fa5ea24-ce69-4135-b8ef-e4c55d9de3e4",
   "metadata": {},
   "outputs": [
    {
     "data": {
      "text/html": [
       "<div>\n",
       "<style scoped>\n",
       "    .dataframe tbody tr th:only-of-type {\n",
       "        vertical-align: middle;\n",
       "    }\n",
       "\n",
       "    .dataframe tbody tr th {\n",
       "        vertical-align: top;\n",
       "    }\n",
       "\n",
       "    .dataframe thead th {\n",
       "        text-align: right;\n",
       "    }\n",
       "</style>\n",
       "<table border=\"1\" class=\"dataframe\">\n",
       "  <thead>\n",
       "    <tr style=\"text-align: right;\">\n",
       "      <th></th>\n",
       "      <th>Age</th>\n",
       "      <th>Race</th>\n",
       "      <th>Marital Status</th>\n",
       "      <th>T Stage</th>\n",
       "      <th>N Stage</th>\n",
       "      <th>6th Stage</th>\n",
       "      <th>differentiate</th>\n",
       "      <th>Grade</th>\n",
       "      <th>A Stage</th>\n",
       "      <th>Tumor Size</th>\n",
       "      <th>Estrogen Status</th>\n",
       "      <th>Progesterone Status</th>\n",
       "      <th>Regional Node Examined</th>\n",
       "      <th>Reginol Node Positive</th>\n",
       "      <th>Survival Months</th>\n",
       "      <th>Status</th>\n",
       "    </tr>\n",
       "  </thead>\n",
       "  <tbody>\n",
       "    <tr>\n",
       "      <th>0</th>\n",
       "      <td>68</td>\n",
       "      <td>White</td>\n",
       "      <td>Married</td>\n",
       "      <td>T1</td>\n",
       "      <td>N1</td>\n",
       "      <td>IIA</td>\n",
       "      <td>Poorly differentiated</td>\n",
       "      <td>3</td>\n",
       "      <td>Regional</td>\n",
       "      <td>4</td>\n",
       "      <td>Positive</td>\n",
       "      <td>Positive</td>\n",
       "      <td>24</td>\n",
       "      <td>1</td>\n",
       "      <td>60</td>\n",
       "      <td>0</td>\n",
       "    </tr>\n",
       "    <tr>\n",
       "      <th>1</th>\n",
       "      <td>50</td>\n",
       "      <td>White</td>\n",
       "      <td>Married</td>\n",
       "      <td>T2</td>\n",
       "      <td>N2</td>\n",
       "      <td>IIIA</td>\n",
       "      <td>Moderately differentiated</td>\n",
       "      <td>2</td>\n",
       "      <td>Regional</td>\n",
       "      <td>35</td>\n",
       "      <td>Positive</td>\n",
       "      <td>Positive</td>\n",
       "      <td>14</td>\n",
       "      <td>5</td>\n",
       "      <td>62</td>\n",
       "      <td>0</td>\n",
       "    </tr>\n",
       "    <tr>\n",
       "      <th>2</th>\n",
       "      <td>58</td>\n",
       "      <td>White</td>\n",
       "      <td>Divorced</td>\n",
       "      <td>T3</td>\n",
       "      <td>N3</td>\n",
       "      <td>IIIC</td>\n",
       "      <td>Moderately differentiated</td>\n",
       "      <td>2</td>\n",
       "      <td>Regional</td>\n",
       "      <td>63</td>\n",
       "      <td>Positive</td>\n",
       "      <td>Positive</td>\n",
       "      <td>14</td>\n",
       "      <td>7</td>\n",
       "      <td>75</td>\n",
       "      <td>0</td>\n",
       "    </tr>\n",
       "    <tr>\n",
       "      <th>3</th>\n",
       "      <td>58</td>\n",
       "      <td>White</td>\n",
       "      <td>Married</td>\n",
       "      <td>T1</td>\n",
       "      <td>N1</td>\n",
       "      <td>IIA</td>\n",
       "      <td>Poorly differentiated</td>\n",
       "      <td>3</td>\n",
       "      <td>Regional</td>\n",
       "      <td>18</td>\n",
       "      <td>Positive</td>\n",
       "      <td>Positive</td>\n",
       "      <td>2</td>\n",
       "      <td>1</td>\n",
       "      <td>84</td>\n",
       "      <td>0</td>\n",
       "    </tr>\n",
       "    <tr>\n",
       "      <th>4</th>\n",
       "      <td>47</td>\n",
       "      <td>White</td>\n",
       "      <td>Married</td>\n",
       "      <td>T2</td>\n",
       "      <td>N1</td>\n",
       "      <td>IIB</td>\n",
       "      <td>Poorly differentiated</td>\n",
       "      <td>3</td>\n",
       "      <td>Regional</td>\n",
       "      <td>41</td>\n",
       "      <td>Positive</td>\n",
       "      <td>Positive</td>\n",
       "      <td>3</td>\n",
       "      <td>1</td>\n",
       "      <td>50</td>\n",
       "      <td>0</td>\n",
       "    </tr>\n",
       "  </tbody>\n",
       "</table>\n",
       "</div>"
      ],
      "text/plain": [
       "   Age   Race Marital Status T Stage  N Stage 6th Stage  \\\n",
       "0   68  White        Married       T1      N1       IIA   \n",
       "1   50  White        Married       T2      N2      IIIA   \n",
       "2   58  White       Divorced       T3      N3      IIIC   \n",
       "3   58  White        Married       T1      N1       IIA   \n",
       "4   47  White        Married       T2      N1       IIB   \n",
       "\n",
       "               differentiate Grade   A Stage  Tumor Size Estrogen Status  \\\n",
       "0      Poorly differentiated     3  Regional           4        Positive   \n",
       "1  Moderately differentiated     2  Regional          35        Positive   \n",
       "2  Moderately differentiated     2  Regional          63        Positive   \n",
       "3      Poorly differentiated     3  Regional          18        Positive   \n",
       "4      Poorly differentiated     3  Regional          41        Positive   \n",
       "\n",
       "  Progesterone Status  Regional Node Examined  Reginol Node Positive  \\\n",
       "0            Positive                      24                      1   \n",
       "1            Positive                      14                      5   \n",
       "2            Positive                      14                      7   \n",
       "3            Positive                       2                      1   \n",
       "4            Positive                       3                      1   \n",
       "\n",
       "   Survival Months  Status  \n",
       "0               60       0  \n",
       "1               62       0  \n",
       "2               75       0  \n",
       "3               84       0  \n",
       "4               50       0  "
      ]
     },
     "execution_count": 5,
     "metadata": {},
     "output_type": "execute_result"
    }
   ],
   "source": [
    "df.head()"
   ]
  },
  {
   "cell_type": "code",
   "execution_count": 5,
   "id": "6de5123e-8ada-40ea-b51f-96c4ccc563eb",
   "metadata": {},
   "outputs": [
    {
     "name": "stdout",
     "output_type": "stream",
     "text": [
      "Total Data:4024\n"
     ]
    }
   ],
   "source": [
    "print('Total Data:'+str(len(df)))"
   ]
  },
  {
   "cell_type": "markdown",
   "id": "d7061347-a8ee-4fb2-8b93-7c28e8d09dcd",
   "metadata": {},
   "source": [
    "Assign target value in y variable"
   ]
  },
  {
   "cell_type": "code",
   "execution_count": 6,
   "id": "a561b864-b07a-4391-a350-4ea6d46002fa",
   "metadata": {},
   "outputs": [],
   "source": [
    "y = df['Status']"
   ]
  },
  {
   "cell_type": "code",
   "execution_count": 7,
   "id": "6b21854f-f9a6-4d30-b526-153bd12d729a",
   "metadata": {},
   "outputs": [
    {
     "data": {
      "text/plain": [
       "0    3408\n",
       "1     616\n",
       "Name: Status, dtype: int64"
      ]
     },
     "execution_count": 7,
     "metadata": {},
     "output_type": "execute_result"
    }
   ],
   "source": [
    "df['Status'].value_counts()"
   ]
  },
  {
   "cell_type": "markdown",
   "id": "680ca8a4-917c-46b1-80a6-f831492894ea",
   "metadata": {},
   "source": [
    "Create a new dataset which discard the target value"
   ]
  },
  {
   "cell_type": "code",
   "execution_count": 8,
   "id": "7236288e-3fa9-4f4c-bad2-203f508fa54c",
   "metadata": {},
   "outputs": [],
   "source": [
    "No_target=df.drop(['Status'], axis=1)"
   ]
  },
  {
   "cell_type": "markdown",
   "id": "c3e2e4b2-b292-402c-8e34-e3a9a6156c25",
   "metadata": {},
   "source": [
    "Create a new dataset which only hold the categorical values"
   ]
  },
  {
   "cell_type": "code",
   "execution_count": 9,
   "id": "597cbc21-c56e-463b-a349-45d2ee027d2f",
   "metadata": {},
   "outputs": [],
   "source": [
    "cat_df = No_target.select_dtypes(include=['object'])"
   ]
  },
  {
   "cell_type": "markdown",
   "id": "0aad4761-e2a3-4395-90f2-4b9b80bb074f",
   "metadata": {},
   "source": [
    "Apply one hot encoding on the categorical dataset"
   ]
  },
  {
   "cell_type": "code",
   "execution_count": 10,
   "id": "e6e1621c-e7ed-48ac-a450-1d7147d645cd",
   "metadata": {},
   "outputs": [],
   "source": [
    "onehot = OneHotEncoder(cols=cat_df.columns.tolist()).fit_transform(cat_df)"
   ]
  },
  {
   "cell_type": "code",
   "execution_count": 11,
   "id": "d2aa7348-4df9-4864-814d-410deea58eb6",
   "metadata": {},
   "outputs": [
    {
     "data": {
      "text/plain": [
       "Age                        int64\n",
       "Race                      object\n",
       "Marital Status            object\n",
       "T Stage                   object\n",
       "N Stage                   object\n",
       "6th Stage                 object\n",
       "differentiate             object\n",
       "Grade                     object\n",
       "A Stage                   object\n",
       "Tumor Size                 int64\n",
       "Estrogen Status           object\n",
       "Progesterone Status       object\n",
       "Regional Node Examined     int64\n",
       "Reginol Node Positive      int64\n",
       "Survival Months            int64\n",
       "dtype: object"
      ]
     },
     "execution_count": 11,
     "metadata": {},
     "output_type": "execute_result"
    }
   ],
   "source": [
    "No_target.dtypes"
   ]
  },
  {
   "cell_type": "markdown",
   "id": "240e37ac-f191-4fd5-8e8f-30219b8d04a1",
   "metadata": {},
   "source": [
    "Create a dataset which only hold the numerical values"
   ]
  },
  {
   "cell_type": "code",
   "execution_count": 12,
   "id": "00f8ae82-5ba9-4ccb-b23b-4373a6f0a1d1",
   "metadata": {},
   "outputs": [],
   "source": [
    "num_df = No_target.select_dtypes(include=['int64'])"
   ]
  },
  {
   "cell_type": "markdown",
   "id": "74566e99-256e-4c56-ae82-503ce93b40b4",
   "metadata": {},
   "source": [
    "one_hot_df = pd.concat([num_df, onehot], axis=1)Merge the numerical and categorical value dataset into a new dataset"
   ]
  },
  {
   "cell_type": "code",
   "execution_count": 13,
   "id": "5ab30d39-e160-4587-b237-9113e24d99e1",
   "metadata": {},
   "outputs": [],
   "source": [
    "Merge_df = pd.concat([num_df, onehot], axis=1)"
   ]
  },
  {
   "cell_type": "code",
   "execution_count": 14,
   "id": "fa07ac9d-1c0e-4efe-a474-676c82bcadbc",
   "metadata": {},
   "outputs": [
    {
     "data": {
      "text/html": [
       "<div>\n",
       "<style scoped>\n",
       "    .dataframe tbody tr th:only-of-type {\n",
       "        vertical-align: middle;\n",
       "    }\n",
       "\n",
       "    .dataframe tbody tr th {\n",
       "        vertical-align: top;\n",
       "    }\n",
       "\n",
       "    .dataframe thead th {\n",
       "        text-align: right;\n",
       "    }\n",
       "</style>\n",
       "<table border=\"1\" class=\"dataframe\">\n",
       "  <thead>\n",
       "    <tr style=\"text-align: right;\">\n",
       "      <th></th>\n",
       "      <th>Age</th>\n",
       "      <th>Tumor Size</th>\n",
       "      <th>Regional Node Examined</th>\n",
       "      <th>Reginol Node Positive</th>\n",
       "      <th>Survival Months</th>\n",
       "      <th>Race_1</th>\n",
       "      <th>Race_2</th>\n",
       "      <th>Race_3</th>\n",
       "      <th>Marital Status_1</th>\n",
       "      <th>Marital Status_2</th>\n",
       "      <th>...</th>\n",
       "      <th>Grade_1</th>\n",
       "      <th>Grade_2</th>\n",
       "      <th>Grade_3</th>\n",
       "      <th>Grade_4</th>\n",
       "      <th>A Stage_1</th>\n",
       "      <th>A Stage_2</th>\n",
       "      <th>Estrogen Status_1</th>\n",
       "      <th>Estrogen Status_2</th>\n",
       "      <th>Progesterone Status_1</th>\n",
       "      <th>Progesterone Status_2</th>\n",
       "    </tr>\n",
       "  </thead>\n",
       "  <tbody>\n",
       "    <tr>\n",
       "      <th>0</th>\n",
       "      <td>68</td>\n",
       "      <td>4</td>\n",
       "      <td>24</td>\n",
       "      <td>1</td>\n",
       "      <td>60</td>\n",
       "      <td>1</td>\n",
       "      <td>0</td>\n",
       "      <td>0</td>\n",
       "      <td>1</td>\n",
       "      <td>0</td>\n",
       "      <td>...</td>\n",
       "      <td>1</td>\n",
       "      <td>0</td>\n",
       "      <td>0</td>\n",
       "      <td>0</td>\n",
       "      <td>1</td>\n",
       "      <td>0</td>\n",
       "      <td>1</td>\n",
       "      <td>0</td>\n",
       "      <td>1</td>\n",
       "      <td>0</td>\n",
       "    </tr>\n",
       "    <tr>\n",
       "      <th>1</th>\n",
       "      <td>50</td>\n",
       "      <td>35</td>\n",
       "      <td>14</td>\n",
       "      <td>5</td>\n",
       "      <td>62</td>\n",
       "      <td>1</td>\n",
       "      <td>0</td>\n",
       "      <td>0</td>\n",
       "      <td>1</td>\n",
       "      <td>0</td>\n",
       "      <td>...</td>\n",
       "      <td>0</td>\n",
       "      <td>1</td>\n",
       "      <td>0</td>\n",
       "      <td>0</td>\n",
       "      <td>1</td>\n",
       "      <td>0</td>\n",
       "      <td>1</td>\n",
       "      <td>0</td>\n",
       "      <td>1</td>\n",
       "      <td>0</td>\n",
       "    </tr>\n",
       "    <tr>\n",
       "      <th>2</th>\n",
       "      <td>58</td>\n",
       "      <td>63</td>\n",
       "      <td>14</td>\n",
       "      <td>7</td>\n",
       "      <td>75</td>\n",
       "      <td>1</td>\n",
       "      <td>0</td>\n",
       "      <td>0</td>\n",
       "      <td>0</td>\n",
       "      <td>1</td>\n",
       "      <td>...</td>\n",
       "      <td>0</td>\n",
       "      <td>1</td>\n",
       "      <td>0</td>\n",
       "      <td>0</td>\n",
       "      <td>1</td>\n",
       "      <td>0</td>\n",
       "      <td>1</td>\n",
       "      <td>0</td>\n",
       "      <td>1</td>\n",
       "      <td>0</td>\n",
       "    </tr>\n",
       "    <tr>\n",
       "      <th>3</th>\n",
       "      <td>58</td>\n",
       "      <td>18</td>\n",
       "      <td>2</td>\n",
       "      <td>1</td>\n",
       "      <td>84</td>\n",
       "      <td>1</td>\n",
       "      <td>0</td>\n",
       "      <td>0</td>\n",
       "      <td>1</td>\n",
       "      <td>0</td>\n",
       "      <td>...</td>\n",
       "      <td>1</td>\n",
       "      <td>0</td>\n",
       "      <td>0</td>\n",
       "      <td>0</td>\n",
       "      <td>1</td>\n",
       "      <td>0</td>\n",
       "      <td>1</td>\n",
       "      <td>0</td>\n",
       "      <td>1</td>\n",
       "      <td>0</td>\n",
       "    </tr>\n",
       "    <tr>\n",
       "      <th>4</th>\n",
       "      <td>47</td>\n",
       "      <td>41</td>\n",
       "      <td>3</td>\n",
       "      <td>1</td>\n",
       "      <td>50</td>\n",
       "      <td>1</td>\n",
       "      <td>0</td>\n",
       "      <td>0</td>\n",
       "      <td>1</td>\n",
       "      <td>0</td>\n",
       "      <td>...</td>\n",
       "      <td>1</td>\n",
       "      <td>0</td>\n",
       "      <td>0</td>\n",
       "      <td>0</td>\n",
       "      <td>1</td>\n",
       "      <td>0</td>\n",
       "      <td>1</td>\n",
       "      <td>0</td>\n",
       "      <td>1</td>\n",
       "      <td>0</td>\n",
       "    </tr>\n",
       "  </tbody>\n",
       "</table>\n",
       "<p>5 rows × 39 columns</p>\n",
       "</div>"
      ],
      "text/plain": [
       "   Age  Tumor Size  Regional Node Examined  Reginol Node Positive  \\\n",
       "0   68           4                      24                      1   \n",
       "1   50          35                      14                      5   \n",
       "2   58          63                      14                      7   \n",
       "3   58          18                       2                      1   \n",
       "4   47          41                       3                      1   \n",
       "\n",
       "   Survival Months  Race_1  Race_2  Race_3  Marital Status_1  \\\n",
       "0               60       1       0       0                 1   \n",
       "1               62       1       0       0                 1   \n",
       "2               75       1       0       0                 0   \n",
       "3               84       1       0       0                 1   \n",
       "4               50       1       0       0                 1   \n",
       "\n",
       "   Marital Status_2  ...  Grade_1  Grade_2  Grade_3  Grade_4  A Stage_1  \\\n",
       "0                 0  ...        1        0        0        0          1   \n",
       "1                 0  ...        0        1        0        0          1   \n",
       "2                 1  ...        0        1        0        0          1   \n",
       "3                 0  ...        1        0        0        0          1   \n",
       "4                 0  ...        1        0        0        0          1   \n",
       "\n",
       "   A Stage_2  Estrogen Status_1  Estrogen Status_2  Progesterone Status_1  \\\n",
       "0          0                  1                  0                      1   \n",
       "1          0                  1                  0                      1   \n",
       "2          0                  1                  0                      1   \n",
       "3          0                  1                  0                      1   \n",
       "4          0                  1                  0                      1   \n",
       "\n",
       "   Progesterone Status_2  \n",
       "0                      0  \n",
       "1                      0  \n",
       "2                      0  \n",
       "3                      0  \n",
       "4                      0  \n",
       "\n",
       "[5 rows x 39 columns]"
      ]
     },
     "execution_count": 14,
     "metadata": {},
     "output_type": "execute_result"
    }
   ],
   "source": [
    "Merge_df.head()"
   ]
  },
  {
   "cell_type": "markdown",
   "id": "5410dedb-420a-4d9c-b806-74a7e5b9c121",
   "metadata": {},
   "source": [
    "Split the dataset into training and test set. Two important link for train test split https://www.kaggle.com/code/ojoabimbola/breast-cancer-accu-0-99-0-90 and https://www.kaggle.com/code/jiaowoguanren/breast-cancer-tensorflow-resmlp"
   ]
  },
  {
   "cell_type": "code",
   "execution_count": 15,
   "id": "ace69025-9ccd-4d23-9561-8de8fab3afbf",
   "metadata": {},
   "outputs": [
    {
     "name": "stdout",
     "output_type": "stream",
     "text": [
      "Train data len:3219\n",
      "Class distributionCounter({0: 2726, 1: 493})\n",
      "Test set data len:805\n",
      "Class distributionCounter({0: 682, 1: 123})\n"
     ]
    }
   ],
   "source": [
    "(X_train, X_test, y_train, y_test)=train_test_split(Merge_df,y,test_size=0.2, stratify=y)\n",
    "print('Train data len:'+str(len(X_train)))\n",
    "print('Class distribution'+str(Counter(y_train)))\n",
    "print('Test set data len:'+str(len(X_test)))\n",
    "print('Class distribution'+ str(Counter(y_test)))"
   ]
  },
  {
   "cell_type": "markdown",
   "id": "247a5c28-e769-4111-ac01-b61bf0a6fcc0",
   "metadata": {},
   "source": [
    "Feature Selection"
   ]
  },
  {
   "cell_type": "code",
   "execution_count": 17,
   "id": "e2304299-76cb-4843-8604-8e588f6a26c1",
   "metadata": {},
   "outputs": [],
   "source": [
    "fs = SelectKBest(score_func=chi2, k='all')\n",
    "fs.fit(X_train, y_train)\n",
    "X_train_fs = fs.transform(X_train)\n",
    "X_test_fs = fs.transform(X_test)"
   ]
  },
  {
   "cell_type": "code",
   "execution_count": 18,
   "id": "8fabe9cb-36b3-42c7-993f-236e75b6e6e3",
   "metadata": {},
   "outputs": [
    {
     "name": "stdout",
     "output_type": "stream",
     "text": [
      "Feature 0: 14.659096\n",
      "Feature 1: 850.014288\n",
      "Feature 2: 21.873525\n",
      "Feature 3: 1485.277925\n",
      "Feature 4: 5993.193209\n",
      "Feature 5: 0.512006\n",
      "Feature 6: 20.922138\n",
      "Feature 7: 4.021212\n",
      "Feature 8: 5.601705\n",
      "Feature 9: 1.133983\n",
      "Feature 10: 1.224111\n",
      "Feature 11: 9.484409\n",
      "Feature 12: 10.513141\n",
      "Feature 13: 27.287016\n",
      "Feature 14: 2.181016\n",
      "Feature 15: 12.428941\n",
      "Feature 16: 45.034507\n",
      "Feature 17: 51.032404\n",
      "Feature 18: 9.335082\n",
      "Feature 19: 167.640306\n",
      "Feature 20: 46.638949\n",
      "Feature 21: 1.276569\n",
      "Feature 22: 167.640306\n",
      "Feature 23: 8.832149\n",
      "Feature 24: 10.731865\n",
      "Feature 25: 51.766011\n",
      "Feature 26: 11.010064\n",
      "Feature 27: 16.180921\n",
      "Feature 28: 11.367710\n",
      "Feature 29: 51.766011\n",
      "Feature 30: 11.010064\n",
      "Feature 31: 16.180921\n",
      "Feature 32: 11.367710\n",
      "Feature 33: 0.928991\n",
      "Feature 34: 35.539577\n",
      "Feature 35: 9.218108\n",
      "Feature 36: 128.157306\n",
      "Feature 37: 20.555553\n",
      "Feature 38: 99.097837\n"
     ]
    }
   ],
   "source": [
    "for i in range(len(fs.scores_)):\n",
    "    print('Feature %d: %f' % (i, fs.scores_[i]))"
   ]
  },
  {
   "cell_type": "markdown",
   "id": "724bfb15-7e14-4c37-8e16-87571b18225f",
   "metadata": {},
   "source": [
    "Use Naive bayes classifier for classification(Bernoulli Naive Bayes classifier) - It only takes binary values. There may be multiple features, but each is assumed to be a binary-valued (Bernoulli, boolean) variable. Therefore, this class requires samples to be represented as binary-valued feature vectors."
   ]
  },
  {
   "cell_type": "code",
   "execution_count": 40,
   "id": "49e51604-6b6b-4d37-929a-df166e615279",
   "metadata": {},
   "outputs": [
    {
     "name": "stdout",
     "output_type": "stream",
     "text": [
      "              precision    recall  f1-score   support\n",
      "\n",
      "           0       0.90      0.87      0.88       682\n",
      "           1       0.37      0.44      0.40       123\n",
      "\n",
      "    accuracy                           0.80       805\n",
      "   macro avg       0.63      0.65      0.64       805\n",
      "weighted avg       0.82      0.80      0.81       805\n",
      "\n"
     ]
    }
   ],
   "source": [
    "Bernoulli_classifer = BernoulliNB()\n",
    "# training the model\n",
    "Bernoulli_classifer.fit(X_train, y_train)\n",
    "# testing the model\n",
    "y_pred = Bernoulli_classifer.predict(X_test)\n",
    "print(classification_report(y_test, y_pred))"
   ]
  },
  {
   "cell_type": "code",
   "execution_count": 43,
   "id": "e2905405-fd35-4efa-9028-23fb09405b58",
   "metadata": {},
   "outputs": [
    {
     "data": {
      "image/png": "[encoded data removed]",
      "text/plain": [
       "<Figure size 432x288 with 2 Axes>"
      ]
     },
     "metadata": {
      "needs_background": "light"
     },
     "output_type": "display_data"
    }
   ],
   "source": [
    "# passing actual and predicted values\n",
    "cm = confusion_matrix(y_test, y_pred)\n",
    "# true write data values in each cell of the matrix\n",
    "sns.heatmap(cm, annot=True)\n",
    "plt.savefig('confusion.png')"
   ]
  },
  {
   "cell_type": "markdown",
   "id": "6ecadf4e-403a-4111-b7c2-4a740cf72229",
   "metadata": {},
   "source": [
    "Note: 5.9e+02 = 5.9*10*10 = 590"
   ]
  },
  {
   "cell_type": "markdown",
   "id": "83e7bd61-a247-4676-84ba-dbcba579f46c",
   "metadata": {},
   "source": [
    "Gaussian Naive Bayes classifier - is a variant of Naive Bayes that follows Gaussian normal distribution and supports continuous data. To build a simple model using Gaussian Naive Bayes, we assume the data is characterized by a Gaussian distribution with no covariance (independent dimensions) between the parameters. This model may be fit simply by calculating the mean and standard deviation of the points within each label."
   ]
  },
  {
   "cell_type": "code",
   "execution_count": 44,
   "id": "1a3832f1-ccc0-4852-915a-4d0c8beed01f",
   "metadata": {},
   "outputs": [
    {
     "name": "stdout",
     "output_type": "stream",
     "text": [
      "              precision    recall  f1-score   support\n",
      "\n",
      "           0       0.90      0.86      0.88       682\n",
      "           1       0.39      0.48      0.43       123\n",
      "\n",
      "    accuracy                           0.80       805\n",
      "   macro avg       0.64      0.67      0.65       805\n",
      "weighted avg       0.82      0.80      0.81       805\n",
      "\n"
     ]
    }
   ],
   "source": [
    "# create a Gaussian Classifier\n",
    "Gauss_classifer = GaussianNB()\n",
    "# training the model\n",
    "Gauss_classifer.fit(X_train, y_train)\n",
    "# testing the model\n",
    "y_pred = Gauss_classifer.predict(X_test)\n",
    "print(classification_report(y_test, y_pred))"
   ]
  },
  {
   "cell_type": "code",
   "execution_count": 45,
   "id": "ac60be23-8429-49b5-818c-25e5997ecd38",
   "metadata": {},
   "outputs": [
    {
     "data": {
      "image/png": "[encoded data removed]",
      "text/plain": [
       "<Figure size 432x288 with 2 Axes>"
      ]
     },
     "metadata": {
      "needs_background": "light"
     },
     "output_type": "display_data"
    }
   ],
   "source": [
    "# passing actual and predicted values\n",
    "cm = confusion_matrix(y_test, y_pred)\n",
    "# true write data values in each cell of the matrix\n",
    "sns.heatmap(cm, annot=True)\n",
    "plt.savefig('confusion.png')"
   ]
  },
  {
   "cell_type": "markdown",
   "id": "44c4070b-e114-416b-9aa5-ecd4019c63b9",
   "metadata": {},
   "source": [
    "Logistic regression classification"
   ]
  },
  {
   "cell_type": "code",
   "execution_count": 46,
   "id": "3cd5ed94-b0b2-4a8f-9176-dd337377127a",
   "metadata": {},
   "outputs": [
    {
     "name": "stdout",
     "output_type": "stream",
     "text": [
      "              precision    recall  f1-score   support\n",
      "\n",
      "           0       0.91      0.99      0.94       682\n",
      "           1       0.85      0.43      0.57       123\n",
      "\n",
      "    accuracy                           0.90       805\n",
      "   macro avg       0.88      0.71      0.76       805\n",
      "weighted avg       0.90      0.90      0.89       805\n",
      "\n"
     ]
    },
    {
     "name": "stderr",
     "output_type": "stream",
     "text": [
      "C:\\Users\\cse_s\\anaconda3\\lib\\site-packages\\sklearn\\linear_model\\_logistic.py:444: ConvergenceWarning: lbfgs failed to converge (status=1):\n",
      "STOP: TOTAL NO. of ITERATIONS REACHED LIMIT.\n",
      "\n",
      "Increase the number of iterations (max_iter) or scale the data as shown in:\n",
      "    https://scikit-learn.org/stable/modules/preprocessing.html\n",
      "Please also refer to the documentation for alternative solver options:\n",
      "    https://scikit-learn.org/stable/modules/linear_model.html#logistic-regression\n",
      "  n_iter_i = _check_optimize_result(\n"
     ]
    }
   ],
   "source": [
    "lr = LogisticRegression()\n",
    "lr.fit(X_train,y_train)\n",
    "y_pred = lr.predict(X_test)\n",
    "print(classification_report(y_test, y_pred))"
   ]
  },
  {
   "cell_type": "code",
   "execution_count": 47,
   "id": "9a030e75-b691-4651-a7ba-e7827384ec8a",
   "metadata": {},
   "outputs": [
    {
     "data": {
      "image/png": "[encoded data removed]",
      "text/plain": [
       "<Figure size 432x288 with 2 Axes>"
      ]
     },
     "metadata": {
      "needs_background": "light"
     },
     "output_type": "display_data"
    }
   ],
   "source": [
    "# passing actual and predicted values\n",
    "cm = confusion_matrix(y_test, y_pred)\n",
    "# true write data values in each cell of the matrix\n",
    "sns.heatmap(cm, annot=True)\n",
    "plt.savefig('confusion.png')"
   ]
  },
  {
   "cell_type": "markdown",
   "id": "f907068f-d583-46d0-bf42-80a5299143e2",
   "metadata": {},
   "source": [
    "Note: 6.7e+02 = 6.7*10*10 = 670"
   ]
  },
  {
   "cell_type": "markdown",
   "id": "422c242d-e21b-4f83-999b-9044a8b2aa1c",
   "metadata": {},
   "source": [
    "Random Forest Classification"
   ]
  },
  {
   "cell_type": "code",
   "execution_count": 48,
   "id": "7816aeed-ad88-45e0-a787-855bf32ce3ee",
   "metadata": {},
   "outputs": [
    {
     "name": "stdout",
     "output_type": "stream",
     "text": [
      "              precision    recall  f1-score   support\n",
      "\n",
      "           0       0.92      0.98      0.95       682\n",
      "           1       0.82      0.50      0.62       123\n",
      "\n",
      "    accuracy                           0.91       805\n",
      "   macro avg       0.87      0.74      0.78       805\n",
      "weighted avg       0.90      0.91      0.90       805\n",
      "\n"
     ]
    }
   ],
   "source": [
    "clf = RandomForestClassifier(n_estimators=100, random_state=0)\n",
    "clf.fit(X_train, y_train)\n",
    "y_pred = clf.predict(X_test)\n",
    "print(classification_report(y_test, y_pred))"
   ]
  },
  {
   "cell_type": "code",
   "execution_count": 49,
   "id": "6a3a5c4a-e4b7-4126-a499-ebec97c180c0",
   "metadata": {},
   "outputs": [
    {
     "data": {
      "image/png": "[encoded data removed]",
      "text/plain": [
       "<Figure size 432x288 with 2 Axes>"
      ]
     },
     "metadata": {
      "needs_background": "light"
     },
     "output_type": "display_data"
    }
   ],
   "source": [
    "# passing actual and predicted values\n",
    "cm = confusion_matrix(y_test, y_pred)\n",
    "# true write data values in each cell of the matrix\n",
    "sns.heatmap(cm, annot=True)\n",
    "plt.savefig('confusion.png')"
   ]
  },
  {
   "cell_type": "markdown",
   "id": "973324dc-73b1-421c-bb20-e7015a8dc4aa",
   "metadata": {},
   "source": [
    "Multilayer Perceptron classification"
   ]
  },
  {
   "cell_type": "code",
   "execution_count": 50,
   "id": "d27c070b-465d-44ee-b8b5-edb0f21b35af",
   "metadata": {},
   "outputs": [
    {
     "name": "stdout",
     "output_type": "stream",
     "text": [
      "              precision    recall  f1-score   support\n",
      "\n",
      "           0       0.91      0.98      0.95       682\n",
      "           1       0.83      0.49      0.62       123\n",
      "\n",
      "    accuracy                           0.91       805\n",
      "   macro avg       0.87      0.74      0.78       805\n",
      "weighted avg       0.90      0.91      0.90       805\n",
      "\n"
     ]
    }
   ],
   "source": [
    "model = MLPClassifier(random_state=1, max_iter=300)\n",
    "model.fit(X_train, y_train)\n",
    "y_pred = model.predict(X_test)\n",
    "print(classification_report(y_test, y_pred))"
   ]
  },
  {
   "cell_type": "code",
   "execution_count": 51,
   "id": "dfd0799f-f686-43cf-b93d-13de89573fbe",
   "metadata": {},
   "outputs": [
    {
     "data": {
      "image/png": "[encoded data removed]",
      "text/plain": [
       "<Figure size 432x288 with 2 Axes>"
      ]
     },
     "metadata": {
      "needs_background": "light"
     },
     "output_type": "display_data"
    }
   ],
   "source": [
    "# passing actual and predicted values\n",
    "cm = confusion_matrix(y_test, y_pred)\n",
    "# true write data values in each cell of the matrix\n",
    "sns.heatmap(cm, annot=True)\n",
    "plt.savefig('confusion.png')"
   ]
  },
  {
   "cell_type": "markdown",
   "id": "5ec0ef45-e012-44e2-9e9e-05dba7039292",
   "metadata": {},
   "source": [
    "Bagging classification"
   ]
  },
  {
   "cell_type": "code",
   "execution_count": 52,
   "id": "a42555b1-9814-4cbc-ac08-46c534e5d030",
   "metadata": {},
   "outputs": [
    {
     "name": "stdout",
     "output_type": "stream",
     "text": [
      "              precision    recall  f1-score   support\n",
      "\n",
      "           0       0.91      0.97      0.94       682\n",
      "           1       0.77      0.49      0.60       123\n",
      "\n",
      "    accuracy                           0.90       805\n",
      "   macro avg       0.84      0.73      0.77       805\n",
      "weighted avg       0.89      0.90      0.89       805\n",
      "\n"
     ]
    }
   ],
   "source": [
    "B_model = BaggingClassifier()\n",
    "B_model.fit(X_train, y_train)\n",
    "y_pred = B_model.predict(X_test)\n",
    "print(classification_report(y_test, y_pred))"
   ]
  },
  {
   "cell_type": "code",
   "execution_count": 53,
   "id": "f6db9e67-d064-4898-bedf-4f6742939989",
   "metadata": {},
   "outputs": [
    {
     "data": {
      "image/png": "[encoded data removed]",
      "text/plain": [
       "<Figure size 432x288 with 2 Axes>"
      ]
     },
     "metadata": {
      "needs_background": "light"
     },
     "output_type": "display_data"
    }
   ],
   "source": [
    "# passing actual and predicted values\n",
    "cm = confusion_matrix(y_test, y_pred)\n",
    "# true write data values in each cell of the matrix\n",
    "sns.heatmap(cm, annot=True)\n",
    "plt.savefig('confusion.png')"
   ]
  },
  {
   "cell_type": "markdown",
   "id": "1807f7a8-bcd8-4ec3-9074-c95b6af3440f",
   "metadata": {},
   "source": [
    "Note: 6.6e+02 = 6.6*10*10= 660"
   ]
  }
 ],
 "metadata": {
  "kernelspec": {
   "display_name": "Python 3 (ipykernel)",
   "language": "python",
   "name": "python3"
  },
  "language_info": {
   "codemirror_mode": {
    "name": "ipython",
    "version": 3
   },
   "file_extension": ".py",
   "mimetype": "text/x-python",
   "name": "python",
   "nbconvert_exporter": "python",
   "pygments_lexer": "ipython3",
   "version": "3.9.12"
  }
 },
 "nbformat": 4,
 "nbformat_minor": 5
}
