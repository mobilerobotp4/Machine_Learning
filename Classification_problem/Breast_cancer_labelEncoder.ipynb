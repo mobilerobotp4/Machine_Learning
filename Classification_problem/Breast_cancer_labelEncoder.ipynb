{
 "cells": [
  {
   "cell_type": "markdown",
   "id": "357d22ec-3851-4f24-b421-73dbd711a34e",
   "metadata": {},
   "source": []
  },
  {
   "cell_type": "markdown",
   "id": "5da7ed7f-62b9-40f6-aaac-4b497f0f0988",
   "metadata": {},
   "source": [
    "Importing libaries"
   ]
  },
  {
   "cell_type": "code",
   "execution_count": 16,
   "id": "4e04db59-8ac9-432b-b3b8-656befa4fcc7",
   "metadata": {},
   "outputs": [],
   "source": [
    "import pandas as pd\n",
    "import numpy as np\n",
    "from collections import Counter\n",
    "from sklearn.preprocessing import LabelEncoder\n",
    "from sklearn.model_selection import train_test_split\n",
    "from sklearn.metrics import confusion_matrix,accuracy_score,precision_score,recall_score,f1_score\n",
    "from sklearn.metrics import classification_report\n",
    "from sklearn.ensemble import RandomForestClassifier\n",
    "from sklearn.linear_model import LogisticRegression\n",
    "from sklearn.neural_network import MLPClassifier\n",
    "from sklearn.ensemble import BaggingClassifier\n",
    "from sklearn.naive_bayes import BernoulliNB\n",
    "from sklearn.naive_bayes import GaussianNB\n",
    "import matplotlib.pyplot as plt\n",
    "import seaborn as sns\n",
    "from sklearn.metrics import plot_confusion_matrix\n",
    "from xgboost import XGBClassifier"
   ]
  },
  {
   "cell_type": "code",
   "execution_count": 51,
   "id": "2f5253a0-6d02-41bd-9dc1-6c5dbe4dc2dd",
   "metadata": {},
   "outputs": [
    {
     "name": "stdout",
     "output_type": "stream",
     "text": [
      "Collecting xgboost\n",
      "  Downloading xgboost-1.6.2-py3-none-win_amd64.whl (125.4 MB)\n",
      "Requirement already satisfied: numpy in c:\\users\\cse_s\\anaconda3\\lib\\site-packages (from xgboost) (1.21.5)\n",
      "Requirement already satisfied: scipy in c:\\users\\cse_s\\anaconda3\\lib\\site-packages (from xgboost) (1.7.3)\n",
      "Installing collected packages: xgboost\n",
      "Successfully installed xgboost-1.6.2\n",
      "Note: you may need to restart the kernel to use updated packages.\n"
     ]
    }
   ],
   "source": [
    "pip install xgboost"
   ]
  },
  {
   "cell_type": "markdown",
   "id": "94fb1066-d472-4d54-b0cb-fcb3ab0e3837",
   "metadata": {},
   "source": [
    "Import Dataset"
   ]
  },
  {
   "cell_type": "code",
   "execution_count": 2,
   "id": "af29242e-54c1-4080-be15-fa36f1a423a9",
   "metadata": {},
   "outputs": [],
   "source": [
    "df = pd.read_csv(\"D:\\Thesis\\Dataset\\Breast cancer categorical Kaggle dataset\\Breast_Cancer.csv\")"
   ]
  },
  {
   "cell_type": "markdown",
   "id": "6d3621b3-01f3-4679-a18b-d4ffe48917f8",
   "metadata": {},
   "source": [
    "Display Dataset"
   ]
  },
  {
   "cell_type": "code",
   "execution_count": 3,
   "id": "8167fef5-dfd5-4cd6-b06c-b28d3ab94711",
   "metadata": {},
   "outputs": [
    {
     "data": {
      "text/html": [
       "<div>\n",
       "<style scoped>\n",
       "    .dataframe tbody tr th:only-of-type {\n",
       "        vertical-align: middle;\n",
       "    }\n",
       "\n",
       "    .dataframe tbody tr th {\n",
       "        vertical-align: top;\n",
       "    }\n",
       "\n",
       "    .dataframe thead th {\n",
       "        text-align: right;\n",
       "    }\n",
       "</style>\n",
       "<table border=\"1\" class=\"dataframe\">\n",
       "  <thead>\n",
       "    <tr style=\"text-align: right;\">\n",
       "      <th></th>\n",
       "      <th>Age</th>\n",
       "      <th>Race</th>\n",
       "      <th>Marital Status</th>\n",
       "      <th>T Stage</th>\n",
       "      <th>N Stage</th>\n",
       "      <th>6th Stage</th>\n",
       "      <th>differentiate</th>\n",
       "      <th>Grade</th>\n",
       "      <th>A Stage</th>\n",
       "      <th>Tumor Size</th>\n",
       "      <th>Estrogen Status</th>\n",
       "      <th>Progesterone Status</th>\n",
       "      <th>Regional Node Examined</th>\n",
       "      <th>Reginol Node Positive</th>\n",
       "      <th>Survival Months</th>\n",
       "      <th>Status</th>\n",
       "    </tr>\n",
       "  </thead>\n",
       "  <tbody>\n",
       "    <tr>\n",
       "      <th>0</th>\n",
       "      <td>68</td>\n",
       "      <td>White</td>\n",
       "      <td>Married</td>\n",
       "      <td>T1</td>\n",
       "      <td>N1</td>\n",
       "      <td>IIA</td>\n",
       "      <td>Poorly differentiated</td>\n",
       "      <td>3</td>\n",
       "      <td>Regional</td>\n",
       "      <td>4</td>\n",
       "      <td>Positive</td>\n",
       "      <td>Positive</td>\n",
       "      <td>24</td>\n",
       "      <td>1</td>\n",
       "      <td>60</td>\n",
       "      <td>Alive</td>\n",
       "    </tr>\n",
       "    <tr>\n",
       "      <th>1</th>\n",
       "      <td>50</td>\n",
       "      <td>White</td>\n",
       "      <td>Married</td>\n",
       "      <td>T2</td>\n",
       "      <td>N2</td>\n",
       "      <td>IIIA</td>\n",
       "      <td>Moderately differentiated</td>\n",
       "      <td>2</td>\n",
       "      <td>Regional</td>\n",
       "      <td>35</td>\n",
       "      <td>Positive</td>\n",
       "      <td>Positive</td>\n",
       "      <td>14</td>\n",
       "      <td>5</td>\n",
       "      <td>62</td>\n",
       "      <td>Alive</td>\n",
       "    </tr>\n",
       "    <tr>\n",
       "      <th>2</th>\n",
       "      <td>58</td>\n",
       "      <td>White</td>\n",
       "      <td>Divorced</td>\n",
       "      <td>T3</td>\n",
       "      <td>N3</td>\n",
       "      <td>IIIC</td>\n",
       "      <td>Moderately differentiated</td>\n",
       "      <td>2</td>\n",
       "      <td>Regional</td>\n",
       "      <td>63</td>\n",
       "      <td>Positive</td>\n",
       "      <td>Positive</td>\n",
       "      <td>14</td>\n",
       "      <td>7</td>\n",
       "      <td>75</td>\n",
       "      <td>Alive</td>\n",
       "    </tr>\n",
       "    <tr>\n",
       "      <th>3</th>\n",
       "      <td>58</td>\n",
       "      <td>White</td>\n",
       "      <td>Married</td>\n",
       "      <td>T1</td>\n",
       "      <td>N1</td>\n",
       "      <td>IIA</td>\n",
       "      <td>Poorly differentiated</td>\n",
       "      <td>3</td>\n",
       "      <td>Regional</td>\n",
       "      <td>18</td>\n",
       "      <td>Positive</td>\n",
       "      <td>Positive</td>\n",
       "      <td>2</td>\n",
       "      <td>1</td>\n",
       "      <td>84</td>\n",
       "      <td>Alive</td>\n",
       "    </tr>\n",
       "    <tr>\n",
       "      <th>4</th>\n",
       "      <td>47</td>\n",
       "      <td>White</td>\n",
       "      <td>Married</td>\n",
       "      <td>T2</td>\n",
       "      <td>N1</td>\n",
       "      <td>IIB</td>\n",
       "      <td>Poorly differentiated</td>\n",
       "      <td>3</td>\n",
       "      <td>Regional</td>\n",
       "      <td>41</td>\n",
       "      <td>Positive</td>\n",
       "      <td>Positive</td>\n",
       "      <td>3</td>\n",
       "      <td>1</td>\n",
       "      <td>50</td>\n",
       "      <td>Alive</td>\n",
       "    </tr>\n",
       "  </tbody>\n",
       "</table>\n",
       "</div>"
      ],
      "text/plain": [
       "   Age   Race Marital Status T Stage  N Stage 6th Stage  \\\n",
       "0   68  White        Married       T1      N1       IIA   \n",
       "1   50  White        Married       T2      N2      IIIA   \n",
       "2   58  White       Divorced       T3      N3      IIIC   \n",
       "3   58  White        Married       T1      N1       IIA   \n",
       "4   47  White        Married       T2      N1       IIB   \n",
       "\n",
       "               differentiate Grade   A Stage  Tumor Size Estrogen Status  \\\n",
       "0      Poorly differentiated     3  Regional           4        Positive   \n",
       "1  Moderately differentiated     2  Regional          35        Positive   \n",
       "2  Moderately differentiated     2  Regional          63        Positive   \n",
       "3      Poorly differentiated     3  Regional          18        Positive   \n",
       "4      Poorly differentiated     3  Regional          41        Positive   \n",
       "\n",
       "  Progesterone Status  Regional Node Examined  Reginol Node Positive  \\\n",
       "0            Positive                      24                      1   \n",
       "1            Positive                      14                      5   \n",
       "2            Positive                      14                      7   \n",
       "3            Positive                       2                      1   \n",
       "4            Positive                       3                      1   \n",
       "\n",
       "   Survival Months Status  \n",
       "0               60  Alive  \n",
       "1               62  Alive  \n",
       "2               75  Alive  \n",
       "3               84  Alive  \n",
       "4               50  Alive  "
      ]
     },
     "execution_count": 3,
     "metadata": {},
     "output_type": "execute_result"
    }
   ],
   "source": [
    "df.head()"
   ]
  },
  {
   "cell_type": "markdown",
   "id": "636e9486-d6dd-4bfe-880a-9f4813125eb7",
   "metadata": {},
   "source": [
    "Find out number of instances and class label unique values"
   ]
  },
  {
   "cell_type": "code",
   "execution_count": 4,
   "id": "d9544825-ea89-47be-997d-b64f9a7ffd73",
   "metadata": {},
   "outputs": [
    {
     "name": "stdout",
     "output_type": "stream",
     "text": [
      "Total Data:4024\n",
      "Alive    3408\n",
      "Dead      616\n",
      "Name: Status, dtype: int64\n"
     ]
    }
   ],
   "source": [
    "print(('Total Data:'+str(len(df))))\n",
    "print(df['Status'].value_counts())"
   ]
  },
  {
   "cell_type": "markdown",
   "id": "bce24586-2407-4f65-91e7-a28926114c18",
   "metadata": {},
   "source": [
    "Find out null values"
   ]
  },
  {
   "cell_type": "code",
   "execution_count": 5,
   "id": "284df666-5582-4509-8607-69ad61d3445c",
   "metadata": {},
   "outputs": [
    {
     "data": {
      "text/plain": [
       "Age                       0\n",
       "Race                      0\n",
       "Marital Status            0\n",
       "T Stage                   0\n",
       "N Stage                   0\n",
       "6th Stage                 0\n",
       "differentiate             0\n",
       "Grade                     0\n",
       "A Stage                   0\n",
       "Tumor Size                0\n",
       "Estrogen Status           0\n",
       "Progesterone Status       0\n",
       "Regional Node Examined    0\n",
       "Reginol Node Positive     0\n",
       "Survival Months           0\n",
       "Status                    0\n",
       "dtype: int64"
      ]
     },
     "execution_count": 5,
     "metadata": {},
     "output_type": "execute_result"
    }
   ],
   "source": [
    "df.isnull().sum()"
   ]
  },
  {
   "cell_type": "markdown",
   "id": "4248b5e9-da8f-4b2f-aea6-8d3faef2e26a",
   "metadata": {},
   "source": [
    "Change the target value into 0 and 1 using label encoder, Alive =0, Dead = 1"
   ]
  },
  {
   "cell_type": "code",
   "execution_count": 6,
   "id": "d888b468-8abf-46c8-b577-d3e02e90e0a1",
   "metadata": {},
   "outputs": [],
   "source": [
    "le = LabelEncoder()\n",
    "df['Status'] = le.fit_transform(df['Status'])"
   ]
  },
  {
   "cell_type": "markdown",
   "id": "665094e2-dfbc-46b0-9924-667324418b72",
   "metadata": {},
   "source": [
    "Display Dataset"
   ]
  },
  {
   "cell_type": "code",
   "execution_count": 7,
   "id": "fb255d53-635c-48ec-8f3d-a8edd157a255",
   "metadata": {},
   "outputs": [
    {
     "data": {
      "text/html": [
       "<div>\n",
       "<style scoped>\n",
       "    .dataframe tbody tr th:only-of-type {\n",
       "        vertical-align: middle;\n",
       "    }\n",
       "\n",
       "    .dataframe tbody tr th {\n",
       "        vertical-align: top;\n",
       "    }\n",
       "\n",
       "    .dataframe thead th {\n",
       "        text-align: right;\n",
       "    }\n",
       "</style>\n",
       "<table border=\"1\" class=\"dataframe\">\n",
       "  <thead>\n",
       "    <tr style=\"text-align: right;\">\n",
       "      <th></th>\n",
       "      <th>Age</th>\n",
       "      <th>Race</th>\n",
       "      <th>Marital Status</th>\n",
       "      <th>T Stage</th>\n",
       "      <th>N Stage</th>\n",
       "      <th>6th Stage</th>\n",
       "      <th>differentiate</th>\n",
       "      <th>Grade</th>\n",
       "      <th>A Stage</th>\n",
       "      <th>Tumor Size</th>\n",
       "      <th>Estrogen Status</th>\n",
       "      <th>Progesterone Status</th>\n",
       "      <th>Regional Node Examined</th>\n",
       "      <th>Reginol Node Positive</th>\n",
       "      <th>Survival Months</th>\n",
       "      <th>Status</th>\n",
       "    </tr>\n",
       "  </thead>\n",
       "  <tbody>\n",
       "    <tr>\n",
       "      <th>0</th>\n",
       "      <td>68</td>\n",
       "      <td>White</td>\n",
       "      <td>Married</td>\n",
       "      <td>T1</td>\n",
       "      <td>N1</td>\n",
       "      <td>IIA</td>\n",
       "      <td>Poorly differentiated</td>\n",
       "      <td>3</td>\n",
       "      <td>Regional</td>\n",
       "      <td>4</td>\n",
       "      <td>Positive</td>\n",
       "      <td>Positive</td>\n",
       "      <td>24</td>\n",
       "      <td>1</td>\n",
       "      <td>60</td>\n",
       "      <td>0</td>\n",
       "    </tr>\n",
       "    <tr>\n",
       "      <th>1</th>\n",
       "      <td>50</td>\n",
       "      <td>White</td>\n",
       "      <td>Married</td>\n",
       "      <td>T2</td>\n",
       "      <td>N2</td>\n",
       "      <td>IIIA</td>\n",
       "      <td>Moderately differentiated</td>\n",
       "      <td>2</td>\n",
       "      <td>Regional</td>\n",
       "      <td>35</td>\n",
       "      <td>Positive</td>\n",
       "      <td>Positive</td>\n",
       "      <td>14</td>\n",
       "      <td>5</td>\n",
       "      <td>62</td>\n",
       "      <td>0</td>\n",
       "    </tr>\n",
       "    <tr>\n",
       "      <th>2</th>\n",
       "      <td>58</td>\n",
       "      <td>White</td>\n",
       "      <td>Divorced</td>\n",
       "      <td>T3</td>\n",
       "      <td>N3</td>\n",
       "      <td>IIIC</td>\n",
       "      <td>Moderately differentiated</td>\n",
       "      <td>2</td>\n",
       "      <td>Regional</td>\n",
       "      <td>63</td>\n",
       "      <td>Positive</td>\n",
       "      <td>Positive</td>\n",
       "      <td>14</td>\n",
       "      <td>7</td>\n",
       "      <td>75</td>\n",
       "      <td>0</td>\n",
       "    </tr>\n",
       "    <tr>\n",
       "      <th>3</th>\n",
       "      <td>58</td>\n",
       "      <td>White</td>\n",
       "      <td>Married</td>\n",
       "      <td>T1</td>\n",
       "      <td>N1</td>\n",
       "      <td>IIA</td>\n",
       "      <td>Poorly differentiated</td>\n",
       "      <td>3</td>\n",
       "      <td>Regional</td>\n",
       "      <td>18</td>\n",
       "      <td>Positive</td>\n",
       "      <td>Positive</td>\n",
       "      <td>2</td>\n",
       "      <td>1</td>\n",
       "      <td>84</td>\n",
       "      <td>0</td>\n",
       "    </tr>\n",
       "    <tr>\n",
       "      <th>4</th>\n",
       "      <td>47</td>\n",
       "      <td>White</td>\n",
       "      <td>Married</td>\n",
       "      <td>T2</td>\n",
       "      <td>N1</td>\n",
       "      <td>IIB</td>\n",
       "      <td>Poorly differentiated</td>\n",
       "      <td>3</td>\n",
       "      <td>Regional</td>\n",
       "      <td>41</td>\n",
       "      <td>Positive</td>\n",
       "      <td>Positive</td>\n",
       "      <td>3</td>\n",
       "      <td>1</td>\n",
       "      <td>50</td>\n",
       "      <td>0</td>\n",
       "    </tr>\n",
       "  </tbody>\n",
       "</table>\n",
       "</div>"
      ],
      "text/plain": [
       "   Age   Race Marital Status T Stage  N Stage 6th Stage  \\\n",
       "0   68  White        Married       T1      N1       IIA   \n",
       "1   50  White        Married       T2      N2      IIIA   \n",
       "2   58  White       Divorced       T3      N3      IIIC   \n",
       "3   58  White        Married       T1      N1       IIA   \n",
       "4   47  White        Married       T2      N1       IIB   \n",
       "\n",
       "               differentiate Grade   A Stage  Tumor Size Estrogen Status  \\\n",
       "0      Poorly differentiated     3  Regional           4        Positive   \n",
       "1  Moderately differentiated     2  Regional          35        Positive   \n",
       "2  Moderately differentiated     2  Regional          63        Positive   \n",
       "3      Poorly differentiated     3  Regional          18        Positive   \n",
       "4      Poorly differentiated     3  Regional          41        Positive   \n",
       "\n",
       "  Progesterone Status  Regional Node Examined  Reginol Node Positive  \\\n",
       "0            Positive                      24                      1   \n",
       "1            Positive                      14                      5   \n",
       "2            Positive                      14                      7   \n",
       "3            Positive                       2                      1   \n",
       "4            Positive                       3                      1   \n",
       "\n",
       "   Survival Months  Status  \n",
       "0               60       0  \n",
       "1               62       0  \n",
       "2               75       0  \n",
       "3               84       0  \n",
       "4               50       0  "
      ]
     },
     "execution_count": 7,
     "metadata": {},
     "output_type": "execute_result"
    }
   ],
   "source": [
    "df.head()"
   ]
  },
  {
   "cell_type": "markdown",
   "id": "2a2fe194-df49-4088-9d61-ac6b570abb4f",
   "metadata": {},
   "source": [
    "Assign target value into y variable"
   ]
  },
  {
   "cell_type": "code",
   "execution_count": 8,
   "id": "34a914a0-f10a-43b8-87e5-74364565876c",
   "metadata": {},
   "outputs": [],
   "source": [
    "y = df['Status']"
   ]
  },
  {
   "cell_type": "markdown",
   "id": "484e4ebc-9a2f-474e-b533-ce43c904db89",
   "metadata": {},
   "source": [
    "Change categorical values with numerical values using label encoder"
   ]
  },
  {
   "cell_type": "code",
   "execution_count": 9,
   "id": "204dbdd6-2469-4a22-ab66-826955479893",
   "metadata": {},
   "outputs": [
    {
     "name": "stdout",
     "output_type": "stream",
     "text": [
      "Age                       False\n",
      "Race                       True\n",
      "Marital Status             True\n",
      "T Stage                    True\n",
      "N Stage                    True\n",
      "6th Stage                  True\n",
      "differentiate              True\n",
      "Grade                      True\n",
      "A Stage                    True\n",
      "Tumor Size                False\n",
      "Estrogen Status            True\n",
      "Progesterone Status        True\n",
      "Regional Node Examined    False\n",
      "Reginol Node Positive     False\n",
      "Survival Months           False\n",
      "Status                    False\n",
      "dtype: bool\n"
     ]
    }
   ],
   "source": [
    "print(df.dtypes==object)\n",
    "df['Race'] = le.fit_transform(df['Race'])\n",
    "df['Marital Status']=le.fit_transform(df['Marital Status'])\n",
    "df['T Stage ']=le.fit_transform(df['T Stage '])\n",
    "df['N Stage']=le.fit_transform(df['N Stage'])\n",
    "df['6th Stage']=le.fit_transform(df['6th Stage'])\n",
    "df['differentiate']=le.fit_transform(df['differentiate'])\n",
    "df['Grade']=le.fit_transform(df['Grade'])\n",
    "df['A Stage']=le.fit_transform(df['A Stage'])\n",
    "df['Estrogen Status']=le.fit_transform(df['Estrogen Status'])\n",
    "df['Progesterone Status']=le.fit_transform(df['Progesterone Status'])"
   ]
  },
  {
   "cell_type": "code",
   "execution_count": 10,
   "id": "e63b087f-2c2b-4793-a34a-97e5d15fd642",
   "metadata": {},
   "outputs": [
    {
     "data": {
      "text/html": [
       "<div>\n",
       "<style scoped>\n",
       "    .dataframe tbody tr th:only-of-type {\n",
       "        vertical-align: middle;\n",
       "    }\n",
       "\n",
       "    .dataframe tbody tr th {\n",
       "        vertical-align: top;\n",
       "    }\n",
       "\n",
       "    .dataframe thead th {\n",
       "        text-align: right;\n",
       "    }\n",
       "</style>\n",
       "<table border=\"1\" class=\"dataframe\">\n",
       "  <thead>\n",
       "    <tr style=\"text-align: right;\">\n",
       "      <th></th>\n",
       "      <th>Age</th>\n",
       "      <th>Race</th>\n",
       "      <th>Marital Status</th>\n",
       "      <th>T Stage</th>\n",
       "      <th>N Stage</th>\n",
       "      <th>6th Stage</th>\n",
       "      <th>differentiate</th>\n",
       "      <th>Grade</th>\n",
       "      <th>A Stage</th>\n",
       "      <th>Tumor Size</th>\n",
       "      <th>Estrogen Status</th>\n",
       "      <th>Progesterone Status</th>\n",
       "      <th>Regional Node Examined</th>\n",
       "      <th>Reginol Node Positive</th>\n",
       "      <th>Survival Months</th>\n",
       "      <th>Status</th>\n",
       "    </tr>\n",
       "  </thead>\n",
       "  <tbody>\n",
       "    <tr>\n",
       "      <th>0</th>\n",
       "      <td>68</td>\n",
       "      <td>2</td>\n",
       "      <td>1</td>\n",
       "      <td>0</td>\n",
       "      <td>0</td>\n",
       "      <td>0</td>\n",
       "      <td>1</td>\n",
       "      <td>3</td>\n",
       "      <td>1</td>\n",
       "      <td>4</td>\n",
       "      <td>1</td>\n",
       "      <td>1</td>\n",
       "      <td>24</td>\n",
       "      <td>1</td>\n",
       "      <td>60</td>\n",
       "      <td>0</td>\n",
       "    </tr>\n",
       "    <tr>\n",
       "      <th>1</th>\n",
       "      <td>50</td>\n",
       "      <td>2</td>\n",
       "      <td>1</td>\n",
       "      <td>1</td>\n",
       "      <td>1</td>\n",
       "      <td>2</td>\n",
       "      <td>0</td>\n",
       "      <td>2</td>\n",
       "      <td>1</td>\n",
       "      <td>35</td>\n",
       "      <td>1</td>\n",
       "      <td>1</td>\n",
       "      <td>14</td>\n",
       "      <td>5</td>\n",
       "      <td>62</td>\n",
       "      <td>0</td>\n",
       "    </tr>\n",
       "    <tr>\n",
       "      <th>2</th>\n",
       "      <td>58</td>\n",
       "      <td>2</td>\n",
       "      <td>0</td>\n",
       "      <td>2</td>\n",
       "      <td>2</td>\n",
       "      <td>4</td>\n",
       "      <td>0</td>\n",
       "      <td>2</td>\n",
       "      <td>1</td>\n",
       "      <td>63</td>\n",
       "      <td>1</td>\n",
       "      <td>1</td>\n",
       "      <td>14</td>\n",
       "      <td>7</td>\n",
       "      <td>75</td>\n",
       "      <td>0</td>\n",
       "    </tr>\n",
       "    <tr>\n",
       "      <th>3</th>\n",
       "      <td>58</td>\n",
       "      <td>2</td>\n",
       "      <td>1</td>\n",
       "      <td>0</td>\n",
       "      <td>0</td>\n",
       "      <td>0</td>\n",
       "      <td>1</td>\n",
       "      <td>3</td>\n",
       "      <td>1</td>\n",
       "      <td>18</td>\n",
       "      <td>1</td>\n",
       "      <td>1</td>\n",
       "      <td>2</td>\n",
       "      <td>1</td>\n",
       "      <td>84</td>\n",
       "      <td>0</td>\n",
       "    </tr>\n",
       "    <tr>\n",
       "      <th>4</th>\n",
       "      <td>47</td>\n",
       "      <td>2</td>\n",
       "      <td>1</td>\n",
       "      <td>1</td>\n",
       "      <td>0</td>\n",
       "      <td>1</td>\n",
       "      <td>1</td>\n",
       "      <td>3</td>\n",
       "      <td>1</td>\n",
       "      <td>41</td>\n",
       "      <td>1</td>\n",
       "      <td>1</td>\n",
       "      <td>3</td>\n",
       "      <td>1</td>\n",
       "      <td>50</td>\n",
       "      <td>0</td>\n",
       "    </tr>\n",
       "  </tbody>\n",
       "</table>\n",
       "</div>"
      ],
      "text/plain": [
       "   Age  Race  Marital Status  T Stage   N Stage  6th Stage  differentiate  \\\n",
       "0   68     2               1         0        0          0              1   \n",
       "1   50     2               1         1        1          2              0   \n",
       "2   58     2               0         2        2          4              0   \n",
       "3   58     2               1         0        0          0              1   \n",
       "4   47     2               1         1        0          1              1   \n",
       "\n",
       "   Grade  A Stage  Tumor Size  Estrogen Status  Progesterone Status  \\\n",
       "0      3        1           4                1                    1   \n",
       "1      2        1          35                1                    1   \n",
       "2      2        1          63                1                    1   \n",
       "3      3        1          18                1                    1   \n",
       "4      3        1          41                1                    1   \n",
       "\n",
       "   Regional Node Examined  Reginol Node Positive  Survival Months  Status  \n",
       "0                      24                      1               60       0  \n",
       "1                      14                      5               62       0  \n",
       "2                      14                      7               75       0  \n",
       "3                       2                      1               84       0  \n",
       "4                       3                      1               50       0  "
      ]
     },
     "execution_count": 10,
     "metadata": {},
     "output_type": "execute_result"
    }
   ],
   "source": [
    "df.head()"
   ]
  },
  {
   "cell_type": "markdown",
   "id": "dc515907-2df6-4925-a257-0302d9952a9c",
   "metadata": {},
   "source": [
    "Split data into training and test set"
   ]
  },
  {
   "cell_type": "code",
   "execution_count": 11,
   "id": "e5983d82-9439-4863-b212-ba64ff1ec276",
   "metadata": {},
   "outputs": [],
   "source": [
    "X = df.drop(['Status'], axis=1)\n",
    "(X_train, X_test, y_train, y_test)=train_test_split(X,y,test_size=0.2, stratify=y)"
   ]
  },
  {
   "cell_type": "markdown",
   "id": "ad66f2a3-5d74-4196-a0b0-c1d9b8b430cc",
   "metadata": {},
   "source": [
    "Show the distribution of training and test set"
   ]
  },
  {
   "cell_type": "code",
   "execution_count": 12,
   "id": "a86f7f68-9c42-4dcb-b55d-f53ef023f31f",
   "metadata": {},
   "outputs": [
    {
     "name": "stdout",
     "output_type": "stream",
     "text": [
      "Train data len:3219\n",
      "Class distributionCounter({0: 2726, 1: 493})\n",
      "Test set data len:805\n",
      "Class distributionCounter({0: 682, 1: 123})\n"
     ]
    }
   ],
   "source": [
    "print('Train data len:'+str(len(X_train)))\n",
    "print('Class distribution'+str(Counter(y_train)))\n",
    "print('Test set data len:'+str(len(X_test)))\n",
    "print('Class distribution'+ str(Counter(y_test)))"
   ]
  },
  {
   "cell_type": "markdown",
   "id": "c22c89f4-a2ae-4f96-aa57-9c6ef09dc239",
   "metadata": {},
   "source": [
    "Apply Bernoulli Naive Bayes classifier"
   ]
  },
  {
   "cell_type": "code",
   "execution_count": 13,
   "id": "26c887d7-aa77-47a3-88bc-cbacf03cad78",
   "metadata": {},
   "outputs": [
    {
     "name": "stdout",
     "output_type": "stream",
     "text": [
      "              precision    recall  f1-score   support\n",
      "\n",
      "           0       0.87      0.96      0.91       682\n",
      "           1       0.44      0.20      0.27       123\n",
      "\n",
      "    accuracy                           0.84       805\n",
      "   macro avg       0.66      0.58      0.59       805\n",
      "weighted avg       0.80      0.84      0.81       805\n",
      "\n"
     ]
    }
   ],
   "source": [
    "Bernoulli_classifer = BernoulliNB()\n",
    "# training the model\n",
    "Bernoulli_classifer.fit(X_train, y_train)\n",
    "# testing the model\n",
    "B_y_pred = Bernoulli_classifer.predict(X_test)\n",
    "print(classification_report(y_test, B_y_pred))"
   ]
  },
  {
   "cell_type": "code",
   "execution_count": 24,
   "id": "c66dae7a-e92f-4a43-8d96-8cf9fe46d35f",
   "metadata": {},
   "outputs": [
    {
     "name": "stdout",
     "output_type": "stream",
     "text": [
      "[[652  30]\n",
      " [ 99  24]]\n"
     ]
    },
    {
     "data": {
      "image/png": "[encoded data removed]",
      "text/plain": [
       "<Figure size 432x288 with 2 Axes>"
      ]
     },
     "metadata": {
      "needs_background": "light"
     },
     "output_type": "display_data"
    }
   ],
   "source": [
    "# passing actual and predicted values\n",
    "cm = confusion_matrix(y_test, B_y_pred)\n",
    "print(cm)\n",
    "# true write data values in each cell of the matrix\n",
    "ax = sns.heatmap(cm, annot=True, cmap='Greens')\n",
    "#plt.savefig('confusion.png',display_labels=['Alive', 'Dead'])\n",
    "ax.set_title('Confusion Matrix\\n\\n');\n",
    "ax.set_xlabel('\\nPredicted Values')\n",
    "ax.set_ylabel('Actual Values ');\n",
    "\n",
    "## Ticket labels - List must be in alphabetical order\n",
    "ax.xaxis.set_ticklabels(['Alive(F/0)','Dead(T/1)'])\n",
    "ax.yaxis.set_ticklabels(['Alive(F/0)','Dead(T/1)'])\n",
    "\n",
    "## Display the visualization of the Confusion Matrix.\n",
    "plt.show()\n"
   ]
  },
  {
   "cell_type": "raw",
   "id": "13b78e5c-92a9-4c65-a9eb-f40bda35d2a6",
   "metadata": {},
   "source": [
    "Apply Gaussian Naive Bayes"
   ]
  },
  {
   "cell_type": "code",
   "execution_count": 40,
   "id": "8f8ef8e8-6cf1-403a-ba51-984ceaeb2cdd",
   "metadata": {},
   "outputs": [
    {
     "name": "stdout",
     "output_type": "stream",
     "text": [
      "              precision    recall  f1-score   support\n",
      "\n",
      "           0       0.90      0.87      0.88       682\n",
      "           1       0.39      0.46      0.42       123\n",
      "\n",
      "    accuracy                           0.81       805\n",
      "   macro avg       0.64      0.66      0.65       805\n",
      "weighted avg       0.82      0.81      0.81       805\n",
      "\n"
     ]
    }
   ],
   "source": [
    "# create a Gaussian Classifier\n",
    "Gauss_classifer = GaussianNB()\n",
    "# training the model\n",
    "Gauss_classifer.fit(X_train, y_train)\n",
    "# testing the model\n",
    "G_y_pred = Gauss_classifer.predict(X_test)\n",
    "print(classification_report(y_test, G_y_pred))"
   ]
  },
  {
   "cell_type": "code",
   "execution_count": 41,
   "id": "5dbf6f37-e368-4728-9693-79f909e71603",
   "metadata": {},
   "outputs": [
    {
     "data": {
      "image/png": "[encoded data removed]",
      "text/plain": [
       "<Figure size 432x288 with 2 Axes>"
      ]
     },
     "metadata": {
      "needs_background": "light"
     },
     "output_type": "display_data"
    }
   ],
   "source": [
    "# passing actual and predicted values\n",
    "cm = confusion_matrix(y_test, G_y_pred)\n",
    "# true write data values in each cell of the matrix\n",
    "sns.heatmap(cm, annot=True)\n",
    "plt.savefig('confusion.png')"
   ]
  },
  {
   "cell_type": "markdown",
   "id": "b969d8cc-323d-42d1-9652-3b3ec8e411f2",
   "metadata": {},
   "source": [
    "Apply logistic regression"
   ]
  },
  {
   "cell_type": "code",
   "execution_count": 42,
   "id": "8a22d4bb-b2cc-4234-9249-ce8afdd6c484",
   "metadata": {},
   "outputs": [
    {
     "name": "stdout",
     "output_type": "stream",
     "text": [
      "              precision    recall  f1-score   support\n",
      "\n",
      "           0       0.90      0.98      0.94       682\n",
      "           1       0.81      0.42      0.56       123\n",
      "\n",
      "    accuracy                           0.90       805\n",
      "   macro avg       0.86      0.70      0.75       805\n",
      "weighted avg       0.89      0.90      0.88       805\n",
      "\n"
     ]
    },
    {
     "name": "stderr",
     "output_type": "stream",
     "text": [
      "C:\\Users\\cse_s\\anaconda3\\lib\\site-packages\\sklearn\\linear_model\\_logistic.py:444: ConvergenceWarning: lbfgs failed to converge (status=1):\n",
      "STOP: TOTAL NO. of ITERATIONS REACHED LIMIT.\n",
      "\n",
      "Increase the number of iterations (max_iter) or scale the data as shown in:\n",
      "    https://scikit-learn.org/stable/modules/preprocessing.html\n",
      "Please also refer to the documentation for alternative solver options:\n",
      "    https://scikit-learn.org/stable/modules/linear_model.html#logistic-regression\n",
      "  n_iter_i = _check_optimize_result(\n"
     ]
    }
   ],
   "source": [
    "lr = LogisticRegression()\n",
    "lr.fit(X_train,y_train)\n",
    "L_y_pred = lr.predict(X_test)\n",
    "print(classification_report(y_test, L_y_pred))"
   ]
  },
  {
   "cell_type": "code",
   "execution_count": 43,
   "id": "282b0338-d4a0-477a-a5d3-4eca10039e33",
   "metadata": {},
   "outputs": [
    {
     "data": {
      "image/png": "[encoded data removed]",
      "text/plain": [
       "<Figure size 432x288 with 2 Axes>"
      ]
     },
     "metadata": {
      "needs_background": "light"
     },
     "output_type": "display_data"
    }
   ],
   "source": [
    "# passing actual and predicted values\n",
    "cm = confusion_matrix(y_test, L_y_pred)\n",
    "# true write data values in each cell of the matrix\n",
    "sns.heatmap(cm, annot=True)\n",
    "plt.savefig('confusion.png')"
   ]
  },
  {
   "cell_type": "markdown",
   "id": "420b7bad-44de-4970-af40-3910948f3f21",
   "metadata": {},
   "source": [
    "Apply Multilayer perceptron"
   ]
  },
  {
   "cell_type": "code",
   "execution_count": 44,
   "id": "a5afa9d3-071a-477c-b90e-dfe7c4dc9d13",
   "metadata": {},
   "outputs": [
    {
     "name": "stdout",
     "output_type": "stream",
     "text": [
      "              precision    recall  f1-score   support\n",
      "\n",
      "           0       0.90      0.98      0.94       682\n",
      "           1       0.75      0.38      0.51       123\n",
      "\n",
      "    accuracy                           0.89       805\n",
      "   macro avg       0.82      0.68      0.72       805\n",
      "weighted avg       0.87      0.89      0.87       805\n",
      "\n"
     ]
    }
   ],
   "source": [
    "model = MLPClassifier(random_state=1, max_iter=300)\n",
    "model.fit(X_train, y_train)\n",
    "model_y_pred = model.predict(X_test)\n",
    "print(classification_report(y_test, model_y_pred))"
   ]
  },
  {
   "cell_type": "code",
   "execution_count": 45,
   "id": "ddc14a2f-87e4-4631-bf5e-88d82271d453",
   "metadata": {},
   "outputs": [
    {
     "data": {
      "image/png": "[encoded data removed]",
      "text/plain": [
       "<Figure size 432x288 with 2 Axes>"
      ]
     },
     "metadata": {
      "needs_background": "light"
     },
     "output_type": "display_data"
    }
   ],
   "source": [
    "# passing actual and predicted values\n",
    "cm = confusion_matrix(y_test, model_y_pred)\n",
    "# true write data values in each cell of the matrix\n",
    "sns.heatmap(cm, annot=True)\n",
    "plt.savefig('confusion.png')"
   ]
  },
  {
   "cell_type": "code",
   "execution_count": null,
   "id": "93c8fd32-d6e6-447d-b8d6-04bf7fedc5f8",
   "metadata": {},
   "outputs": [],
   "source": [
    "Apply Random Forest"
   ]
  },
  {
   "cell_type": "code",
   "execution_count": 46,
   "id": "5a6cb406-401c-4402-9cba-5e20db3e9b4a",
   "metadata": {},
   "outputs": [
    {
     "name": "stdout",
     "output_type": "stream",
     "text": [
      "              precision    recall  f1-score   support\n",
      "\n",
      "           0       0.91      0.98      0.94       682\n",
      "           1       0.82      0.45      0.58       123\n",
      "\n",
      "    accuracy                           0.90       805\n",
      "   macro avg       0.86      0.71      0.76       805\n",
      "weighted avg       0.89      0.90      0.89       805\n",
      "\n"
     ]
    }
   ],
   "source": [
    "clf = RandomForestClassifier(n_estimators=100, random_state=0)\n",
    "clf.fit(X_train, y_train)\n",
    "R_y_pred = clf.predict(X_test)\n",
    "print(classification_report(y_test, R_y_pred))"
   ]
  },
  {
   "cell_type": "code",
   "execution_count": 47,
   "id": "593b43a7-25dd-41d3-922c-83f59eac89d3",
   "metadata": {},
   "outputs": [
    {
     "data": {
      "image/png": "[encoded data removed]",
      "text/plain": [
       "<Figure size 432x288 with 2 Axes>"
      ]
     },
     "metadata": {
      "needs_background": "light"
     },
     "output_type": "display_data"
    }
   ],
   "source": [
    "# passing actual and predicted values\n",
    "cm = confusion_matrix(y_test, R_y_pred)\n",
    "# true write data values in each cell of the matrix\n",
    "sns.heatmap(cm, annot=True)\n",
    "plt.savefig('confusion.png')"
   ]
  },
  {
   "cell_type": "code",
   "execution_count": null,
   "id": "a1c03a8c-3a73-46dd-9d7d-a5cad6d0343e",
   "metadata": {},
   "outputs": [],
   "source": [
    "Apply Bagging"
   ]
  },
  {
   "cell_type": "code",
   "execution_count": 48,
   "id": "53cdad32-418c-442b-9538-9552123e0eeb",
   "metadata": {},
   "outputs": [
    {
     "name": "stdout",
     "output_type": "stream",
     "text": [
      "              precision    recall  f1-score   support\n",
      "\n",
      "           0       0.90      0.98      0.94       682\n",
      "           1       0.77      0.41      0.54       123\n",
      "\n",
      "    accuracy                           0.89       805\n",
      "   macro avg       0.84      0.70      0.74       805\n",
      "weighted avg       0.88      0.89      0.88       805\n",
      "\n"
     ]
    }
   ],
   "source": [
    "B_model = BaggingClassifier()\n",
    "B_model.fit(X_train, y_train)\n",
    "Ba_y_pred = B_model.predict(X_test)\n",
    "print(classification_report(y_test, Ba_y_pred))"
   ]
  },
  {
   "cell_type": "code",
   "execution_count": 49,
   "id": "a184693a-1acf-46ad-875c-36fed3a338c8",
   "metadata": {},
   "outputs": [
    {
     "data": {
      "image/png": "[encoded data removed]",
      "text/plain": [
       "<Figure size 432x288 with 2 Axes>"
      ]
     },
     "metadata": {
      "needs_background": "light"
     },
     "output_type": "display_data"
    }
   ],
   "source": [
    "# passing actual and predicted values\n",
    "cm = confusion_matrix(y_test, Ba_y_pred)\n",
    "# true write data values in each cell of the matrix\n",
    "sns.heatmap(cm, annot=True)\n",
    "plt.savefig('confusion.png')"
   ]
  },
  {
   "cell_type": "markdown",
   "id": "604fe415-ef90-4cf8-b5ab-9c2d1bd30bc4",
   "metadata": {},
   "source": [
    "XGBboost classifier"
   ]
  },
  {
   "cell_type": "code",
   "execution_count": 53,
   "id": "c427c06a-c3a9-4780-8a55-0fe97740b0ad",
   "metadata": {},
   "outputs": [
    {
     "name": "stdout",
     "output_type": "stream",
     "text": [
      "              precision    recall  f1-score   support\n",
      "\n",
      "           0       0.91      0.97      0.94       682\n",
      "           1       0.74      0.46      0.56       123\n",
      "\n",
      "    accuracy                           0.89       805\n",
      "   macro avg       0.82      0.71      0.75       805\n",
      "weighted avg       0.88      0.89      0.88       805\n",
      "\n"
     ]
    }
   ],
   "source": [
    "XG_model = XGBClassifier()\n",
    "XG_model.fit(X_train, y_train)\n",
    "XG_y_pred = XG_model.predict(X_test)\n",
    "print(classification_report(y_test, XG_y_pred))"
   ]
  },
  {
   "cell_type": "code",
   "execution_count": 54,
   "id": "56796d39-748d-4649-86e4-715e96bbfc6c",
   "metadata": {},
   "outputs": [
    {
     "data": {
      "image/png": "[encoded data removed]",
      "text/plain": [
       "<Figure size 432x288 with 2 Axes>"
      ]
     },
     "metadata": {
      "needs_background": "light"
     },
     "output_type": "display_data"
    }
   ],
   "source": [
    "# passing actual and predicted values\n",
    "cm = confusion_matrix(y_test, XG_y_pred)\n",
    "# true write data values in each cell of the matrix\n",
    "sns.heatmap(cm, annot=True)\n",
    "plt.savefig('confusion.png')"
   ]
  },
  {
   "cell_type": "code",
   "execution_count": null,
   "id": "8afe36c4-d35c-40a5-ad6d-caeb4c50a793",
   "metadata": {},
   "outputs": [],
   "source": []
  }
 ],
 "metadata": {
  "kernelspec": {
   "display_name": "Python 3 (ipykernel)",
   "language": "python",
   "name": "python3"
  },
  "language_info": {
   "codemirror_mode": {
    "name": "ipython",
    "version": 3
   },
   "file_extension": ".py",
   "mimetype": "text/x-python",
   "name": "python",
   "nbconvert_exporter": "python",
   "pygments_lexer": "ipython3",
   "version": "3.9.12"
  }
 },
 "nbformat": 4,
 "nbformat_minor": 5
}
