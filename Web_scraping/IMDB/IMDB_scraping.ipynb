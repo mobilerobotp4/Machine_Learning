{
  "nbformat": 4,
  "nbformat_minor": 0,
  "metadata": {
    "colab": {
      "name": "IMDB_scraping.ipynb",
      "provenance": []
    },
    "kernelspec": {
      "name": "python3",
      "display_name": "Python 3"
    }
  },
  "cells": [
    {
      "cell_type": "markdown",
      "metadata": {
        "id": "xGpiv0QtGf9n"
      },
      "source": [
        "**Installing important libraries**"
      ]
    },
    {
      "cell_type": "code",
      "metadata": {
        "colab": {
          "base_uri": "https://localhost:8080/"
        },
        "id": "0WeV7XhCGY3S",
        "outputId": "399476aa-c4d9-4be7-bb23-edd86a61cdef"
      },
      "source": [
        "pip install requests"
      ],
      "execution_count": null,
      "outputs": [
        {
          "output_type": "stream",
          "text": [
            "Requirement already satisfied: requests in /usr/local/lib/python3.7/dist-packages (2.23.0)\n",
            "Requirement already satisfied: idna<3,>=2.5 in /usr/local/lib/python3.7/dist-packages (from requests) (2.10)\n",
            "Requirement already satisfied: certifi>=2017.4.17 in /usr/local/lib/python3.7/dist-packages (from requests) (2020.12.5)\n",
            "Requirement already satisfied: urllib3!=1.25.0,!=1.25.1,<1.26,>=1.21.1 in /usr/local/lib/python3.7/dist-packages (from requests) (1.24.3)\n",
            "Requirement already satisfied: chardet<4,>=3.0.2 in /usr/local/lib/python3.7/dist-packages (from requests) (3.0.4)\n"
          ],
          "name": "stdout"
        }
      ]
    },
    {
      "cell_type": "code",
      "metadata": {
        "colab": {
          "base_uri": "https://localhost:8080/"
        },
        "id": "eDV5xkkRGxp9",
        "outputId": "826bc413-cc4a-44b5-db9b-d29dfd7a4925"
      },
      "source": [
        "!pip install beautifulsoup4"
      ],
      "execution_count": null,
      "outputs": [
        {
          "output_type": "stream",
          "text": [
            "Requirement already satisfied: beautifulsoup4 in /usr/local/lib/python3.7/dist-packages (4.6.3)\n"
          ],
          "name": "stdout"
        }
      ]
    },
    {
      "cell_type": "code",
      "metadata": {
        "colab": {
          "base_uri": "https://localhost:8080/"
        },
        "id": "3zCIiwD9G6Hj",
        "outputId": "64259ed2-68a9-460a-b16f-53a4b1d739f1"
      },
      "source": [
        "!pip install pandas"
      ],
      "execution_count": null,
      "outputs": [
        {
          "output_type": "stream",
          "text": [
            "Requirement already satisfied: pandas in /usr/local/lib/python3.7/dist-packages (1.1.5)\n",
            "Requirement already satisfied: pytz>=2017.2 in /usr/local/lib/python3.7/dist-packages (from pandas) (2018.9)\n",
            "Requirement already satisfied: python-dateutil>=2.7.3 in /usr/local/lib/python3.7/dist-packages (from pandas) (2.8.1)\n",
            "Requirement already satisfied: numpy>=1.15.4 in /usr/local/lib/python3.7/dist-packages (from pandas) (1.19.5)\n",
            "Requirement already satisfied: six>=1.5 in /usr/local/lib/python3.7/dist-packages (from python-dateutil>=2.7.3->pandas) (1.15.0)\n"
          ],
          "name": "stdout"
        }
      ]
    },
    {
      "cell_type": "code",
      "metadata": {
        "colab": {
          "base_uri": "https://localhost:8080/"
        },
        "id": "Fx5iKZfvG9Xo",
        "outputId": "0918f5e0-b613-44f9-d78c-02f0a18188e7"
      },
      "source": [
        "!pip install numpy"
      ],
      "execution_count": null,
      "outputs": [
        {
          "output_type": "stream",
          "text": [
            "Requirement already satisfied: numpy in /usr/local/lib/python3.7/dist-packages (1.19.5)\n"
          ],
          "name": "stdout"
        }
      ]
    },
    {
      "cell_type": "code",
      "metadata": {
        "colab": {
          "base_uri": "https://localhost:8080/"
        },
        "id": "lhRFaSFhHMIt",
        "outputId": "8c651f69-9037-4abd-82b3-9866711ac33a"
      },
      "source": [
        "import requests\r\n",
        "from bs4 import BeautifulSoup\r\n",
        "import numpy as np\r\n",
        "\r\n",
        "movie_title= []\r\n",
        "Year_of_release = []\r\n",
        "movie_rating = []\r\n",
        "MetaScore = []\r\n",
        "movie_genre = []\r\n",
        "movie_runtime = []\r\n",
        "movie_director = []\r\n",
        "pages = np.arange(1, 1001, 50)\r\n",
        "#print(pages)\r\n",
        "\r\n",
        "\r\n",
        "headers = {\"User-Agent\":\"Mozilla/5.0 (Windows NT 10.0; WOW64) AppleWebKit/537.36 (KHTML, like Gecko) Chrome/88.0.4324.182 Safari/537.36\", \"Accept-Encoding\":\"gzip, deflate\", \"Accept\":\"text/html,application/xhtml+xml,application/xml;q=0.9,*/*;q=0.8\", \"DNT\":\"1\",\"Connection\":\"close\", \"Upgrade-Insecure-Requests\":\"1\"}\r\n",
        "\r\n",
        "for response in pages:\r\n",
        "  response = requests.get('https://www.imdb.com/search/title/?genres=horror&start=' +str(response)+ '&title_type=feature&explore=genres&ref_=adv_nxt', headers=headers)\r\n",
        "  page_html = response.text\r\n",
        "  page_soup = BeautifulSoup(page_html,\"html.parser\")\r\n",
        "\r\n",
        "\r\n",
        "\r\n",
        "  movies = page_soup.find_all('div',{'class':'lister-item-content'})\r\n",
        "  \r\n",
        "  for movie in movies:\r\n",
        "    title = movie.find('h3').find('a').text\r\n",
        "    movie_title.append(title)\r\n",
        "    release = movie.find('h3').find('span', attrs={'class':'lister-item-year'}).text\r\n",
        "    Year_of_release.append(release)\r\n",
        "\r\n",
        "    try:\r\n",
        "      metascore = movie.find('span',attrs = {'class':'metascore'}).text.strip()\r\n",
        "    except:\r\n",
        "      metascore = 'NA'\r\n",
        "\r\n",
        "    MetaScore.append(metascore)\r\n",
        "    \r\n",
        "    try:\r\n",
        "      rating = float(movie.strong.text)\r\n",
        "    except:\r\n",
        "      rating = ''\r\n",
        "    movie_rating.append(rating)\r\n",
        "    \r\n",
        "    genre = movie.find('p').find('span', {'class':'genre'}).text.strip()\r\n",
        "    movie_genre.append(genre)\r\n",
        "    runtime = movie.find('span', class_='runtime').text if movie.p.find('span', class_='runtime') else ''\r\n",
        "    movie_runtime.append(runtime)\r\n",
        "    ps = movie.find_all('p')\r\n",
        "    for p in ps:\r\n",
        "      if 'Director'in p.text:\r\n",
        "        director =p.find('a').text\r\n",
        "        movie_director.append(director)\r\n",
        "      else:\r\n",
        "        ''\r\n",
        "    \r\n",
        "   \r\n",
        "print(len(movie_title))\r\n",
        "print(len(movie_runtime))\r\n",
        "print(movie_director)"
      ],
      "execution_count": 11,
      "outputs": [
        {
          "output_type": "stream",
          "text": [
            "1000\n",
            "1000\n",
            "['Mike P. Nelson', 'Kevin Lewis', 'Alain Darborg', 'Rose Glass', 'Christopher Landon', 'Sam Raimi', 'Ari Aster', 'Castille Landon', 'Lenny Abrahamson', 'Zack Snyder', 'Jordan Peele', 'Justin Benson', 'Dave Franco', 'Roseanne Liang', 'Olivia Wilde', 'Andy Serkis', 'Stanley Kubrick', 'Robert Eggers', 'M. Night Shyamalan', 'Ari Aster', 'Rob Schmidt', 'Gerard Bush', 'Brandon Cronenberg', 'Josh Boone', 'Mike Flanagan', 'Leigh Whannell', 'Jon Turteltaub', 'Ridley Scott', 'Robert Eggers', 'Matt Bettinelli-Olpin', 'Aneesh Chaganty', 'Keola Racela', 'Craig Zobel', 'Jonathan Milott', 'Andy Muschietti', 'Walter Salles', 'John Krasinski', 'John Krasinski', 'Robert Zemeckis', 'Johannes Roberts', 'Jordan Peele', 'Steven Kostanski', 'David Prior', 'Robert Rodriguez', 'Galder Gaztelu-Urrutia', 'Michael Chaves', 'William Eubank', 'Patrick Lussier', 'Egor Abramenko', 'George Mihalka', 'Yorgos Lanthimos', 'Veena Sud', 'Edgar Wright', 'Ridley Scott', 'Lorcan Finnegan', 'Darren Lynn Bousman', 'Andy Muschietti', 'Alfred Hitchcock', 'Rob Savage', 'Daniel Espinosa', 'Alex Garland', 'James Wan', 'Will Wernick', 'John Carpenter', 'Adam Randall', 'Susanne Bier', 'Drew Goddard', 'Remi Weekes', 'Jennifer Harrington', 'Sang-ho Yeon', 'Neil Marshall', 'Jim Jarmusch', 'Luca Guadagnino', 'Ron Underwood', 'Francis Ford Coppola', 'Ruben Fleischer', 'Zack Snyder', 'Marc Forster', 'Neil Marshall', 'Matt Bettinelli-Olpin', 'Justin Benson', 'James Whale', 'Wes Craven', 'Jeff Wadlow', 'Francis Lawrence', 'John Erick Dowdle', 'Richard Stanley', 'Gaspar Noé', 'James Wan', 'Jaume Collet-Serra', 'Mike Marvin', 'Chung-Hyun Lee', 'Paul W.S. Anderson', 'Edgar Wright', 'Pier Paolo Pasolini', 'Adam Robitel', 'Severin Fiala', 'Alejandro Amenábar', 'Srdjan Spasojevic', 'Adam Wingard', 'Scott Stewart', 'Karyn Kusama', 'Gregory Wilson', 'Darren Aronofsky', 'Oliver Milburn', 'Matt Reeves', 'Joel Schumacher', 'Pascal Laugier', 'Dan Trachtenberg', 'Hideaki Anno', 'David Gordon Green', 'Anna Biller', 'William Friedkin', 'Jamie Blanks', 'Mike Flanagan', 'Gary Shore', 'Nicolas Winding Refn', 'Nikolaj Arcel', 'Jordan Graham', 'Gaspar Noé', 'Steven R. Monroe', 'Zoe Lister-Jones', 'Lars von Trier', 'Oz Perkins', 'Michael Mann', 'Julius Avery', 'Stephen Norrington', 'Danny Boyle', 'Jemaine Clement', 'Brian De Palma', 'Fede Alvarez', 'Jacob Chase', 'Eli Roth', 'David Yarovesky', 'Alister Grierson', 'Bryan Bertino', 'David Lowery', 'Roman Polanski', 'Gore Verbinski', 'Burr Steers', 'John Carpenter', 'Stephen King', 'McG', 'David Robert Mitchell', 'Frank Darabont', 'Tim Burton', 'Joe Dante', 'S. Craig Zahler', 'Jonathan Glazer', 'Wes Craven', 'Sang-ho Yeon', 'James Ward Byrkit', 'Clive Barker', 'Darren Lynn Bousman', 'Daniel Myrick', 'Mark Waters', 'Ruben Fleischer', 'James Wan', 'McG', 'Alexandre Aja', 'Paul W.S. Anderson', 'Gore Verbinski', 'Justin G. Dyck', 'Daniel Espinosa', 'Neil Jordan', 'David Fincher', 'Natalie Erika James', 'Shinji Higuchi', 'David Cronenberg', 'Scott Derrickson', 'Dan Berk', 'M. Night Shyamalan', 'Guillermo del Toro', 'John Carpenter', 'Adrian Langley', 'Jean-Pierre Jeunet', 'Christian Alvart', 'Rob Cohen', 'Dean Devlin', 'Harald Zwart', 'Corin Hardy', 'Ryan Spindell', 'Ruggero Deodato', 'Kevin Smith', 'Lars von Trier', 'Nia DaCosta', 'Jayro Bustamante', 'James Wan', 'Sam Raimi', 'Jim Jarmusch', 'Kimberly Peirce', 'Tim Burton', 'Shawn Linden', 'David Bruckner', 'Marcus Nispel', 'Neil Marshall', 'Sam Levinson', 'Keith Thomas', 'Jim Cummings', 'Jim Gillespie', 'Adam Wingard', 'Eli Roth', 'Robert Rodriguez', 'Sion Sono', 'John Landis', 'Jay Baruchel', 'Robert Zemeckis', 'Alan Parker', 'Mark Toia', 'Gareth Evans', 'Jee-woon Kim', 'Mike Flanagan', 'Alexandre Aja', 'Tim Burton', 'Xavier Gens', 'Jeannot Szwarc', 'Il Cho', 'James Wong', 'Crispian Mills', 'Emmanuel Osei-Kuffour', 'Paul W.S. Anderson', 'David S. Goyer', 'Marc Meyers', 'Gary Dauberman', 'David Lynch', 'Brad Anderson', 'Christophe Gans', 'Andrew Fleming', 'Paul W.S. Anderson', 'Greg Tiernan', 'James DeMonaco', 'M.J. Bassett', 'Alfred Hitchcock', 'Adrian Lyne', 'Scott Cooper', 'Coralie Fargeat', 'Jennifer Kent', 'Guillermo del Toro', 'Ángel Gómez Hernández', 'Pedro Almodóvar', 'John R. Leonetti', 'Christopher Landon', 'Trey Edward Shults', 'Victor Salva', 'Guillermo del Toro', 'Claire Denis', 'John Guillermin', 'Christopher Landon', 'Jaume Collet-Serra', 'Dennis Iliadis', 'André Øvredal', 'Frank Oz', 'Steve Beck', 'Zak Hilditch', 'Everardo Gout', 'Stephen Hopkins', 'David Koepp', 'David F. Sandberg', 'David Twohy', 'Vincenzo Natali', 'Matthijs van Heijningen Jr.', 'Andrzej Zulawski', 'John Carpenter', 'Renny Harlin', 'Tobe Hooper', 'David Lynch', 'David Gordon Green', 'Tarsem Singh', 'Michael Chaves', 'Tom Six', 'Tobe Hooper', 'Chris Columbus', 'Fran Rubel Kuzui', 'Tomas Alfredson', 'Roger Donaldson', 'Floria Sigismondi', 'Michael Goi', 'John Erick Dowdle', 'Andrzej Bartkowiak', 'Albert Hughes', 'Renaud Gauthier', 'Hong-jin Na', 'Sergio G. Sánchez', 'George Miller', 'Alexander Witt', 'Fede Alvarez', 'Jonathan Levine', 'Alexandre Aja', 'Eric Bress', 'Jeremy Saulnier', 'Pål Sletaune', 'Bong Joon Ho', 'Bryan Bertino', 'Dan Gilroy', 'David Slade', 'Nicolas Roeg', 'David Guy Levy', 'James Watkins', 'Anna Foerster', 'Andrew Douglas', 'Ana Lily Amirpour', 'Colin Strause', 'Julius Onah', 'Mark Tonderai', 'Anthony Scott Burns', 'Matt Reeves', 'Andy Collier', 'Mark Tonderai', 'Sean S. Cunningham', 'Justin Dec', 'Robert Rodriguez', 'André Øvredal', 'Johannes Roberts', 'Walter Murch', 'Peter Strickland', 'Gregory Plotkin', 'Sam Raimi', 'Mikael Håfström', 'Jaume Collet-Serra', 'Mathieu Kassovitz', 'Joe Dante', 'Mary Lambert', 'Brett Pierce', 'Robert Rodriguez', 'Marcus Nispel', 'Joseph Sargent', 'Scott Stewart', 'Howard Storm', 'Dario Argento', 'Richard Shepard', 'Oren Peli', 'Michael Haneke', 'Sam Raimi', 'Wes Craven', 'Bernard Rose', 'Christian Volckman', 'Brendan Steere', 'John Luessenhop', 'Nicolas Pesce', \"Dan O'Bannon\", 'John Carpenter', 'David F. Sandberg', 'James Gunn', 'Darren Lynn Bousman', 'Julius Berg', 'Christian Alvart', 'Craig Gillespie', 'John R. Leonetti', 'Scott Derrickson', 'Masashi Koizuka', 'Lucio A. Rojas', 'Fred Dekker', 'Patrick Brice', 'Raja Gosnell', 'Steve Miner', 'Christopher Smith', 'Robert Zemeckis', 'Breck Eisner', 'Paul Verhoeven', 'Scott Beck', 'Luke Scott', 'Juan Carlos Fresnadillo', 'Aaron Hann', 'Michael Spierig', 'Darren Aronofsky', 'Vincenzo Natali', 'Hardik Mehta', 'Eli Roth', 'Joe Dante', 'Peter Cornwell', 'Hang-jun Jang', 'John Frankenheimer', 'Sam Raimi', 'Richard Donner', 'Justin Benson', 'Wes Craven', 'Ronny Yu', 'Jacob Estes', 'Clive Barker', 'Jeff Wadlow', 'John Gulager', 'Guillermo del Toro', 'Lars Klevberg', 'Chad Stahelski', 'William Brent Bell', 'Merian C. Cooper', 'Wes Craven', 'Spencer Hawken', 'Steve Beck', 'Ciarán Foy', 'David Cronenberg', 'David Marmor', 'Juliano Dornelles', 'James Wan', 'Douglas Aarniokoski', 'Rob Zombie', 'James Watkins', 'Kevin Kölsch', 'Robin Hardy', 'Mark Polonia', 'Julia Ducournau', 'Tobe Hooper', 'Bartosz M. Kowalski', 'Marc Fehse', 'Luis Llosa', 'Jamie Blanks', 'Christopher Landon', 'Robert Hiltzik', 'Rob Zombie', 'Paul W.S. Anderson', 'Jeffrey A. Brown', 'James Watts', 'Peter Jackson', 'Andy Muschietti', 'Rupert Wyatt', 'Kiyoshi Kurosawa', 'John Carpenter', 'James DeMonaco', 'Brea Grant', 'Carter Smith', 'Keenen Ivory Wayans', 'David Cronenberg', 'Kevin Greutert', 'Meir Zarchi', 'Matt Bettinelli-Olpin', 'Tom Holland', 'Teddy Grennan', 'Neasa Hardiman', 'Tod Williams', 'Tommy Wirkola', 'Andrew Traucki', 'Mark A.Z. Dippé', 'George A. Romero', 'René Cardona Jr.', 'Takashi Miike', 'John Carpenter', 'Jonas Åkerlund', 'Jeremy Gardner', 'Eli Craig', 'Kenneth Branagh', 'Todd Strauss-Schulson', 'Hideo Nakata', 'John Erick Dowdle', 'Paul W.S. Anderson', 'Kourosh Ahari', 'Richard Bates Jr.', \"Tommy O'Haver\", 'Niels Arden Oplev', 'Steven Quale', 'George A. Romero', 'Jeff Nichols', 'Steven Soderbergh', 'Peter Jackson', 'Jarand Herdal', 'Darren Lynn Bousman', 'Jen Soska', 'Mike Flanagan', 'Joe Dante', 'Ivan Kavanagh', 'Samuel Bayer', 'Jan de Bont', 'Tom Holland', 'Wes Craven', 'David Cronenberg', 'Joachim Trier', 'Ben Howling', 'Marcus Dunstan', 'Johannes Roberts', 'Patrick Lussier', 'Jeremy Gillespie', 'George P. Cosmatos', 'Rahi Anil Barve', 'Jaume Balagueró', 'Eli Roth', 'James Wong', 'Marc Meyers', 'Chris Kentis', 'Mike Nichols', 'Peter Hyams', 'Rob Zombie', 'Colm McCarthy', 'David R. Ellis', 'Damien Leone', 'Fritz Kiersch', 'Brandon Christensen', 'Takashi Shimizu', 'Darren Lynn Bousman', 'Russell Mulcahy', 'Chuck Russell', 'Daniel Goldhaber', 'Adam Robitel', 'Rob Letterman', 'James Wan', 'Ishirô Honda', 'Chris Peckover', 'Johnny Martin', 'J.A. Bayona', 'Steve Miner', 'Ray Dennis Steckler', 'Lawrence Kasdan', 'Joe Alves', 'Martin Weisz', 'Timur Bekmambetov', 'Mike Flanagan', 'Stuart Gordon', 'Chuck Russell', 'Brian Yuzna', 'Paco Plaza', 'Zu Quirke', 'David Cronenberg', 'Kathryn Bigelow', 'Justin P. Lange', 'Takashi Shimizu', 'Adam Robitel', 'Steven R. Monroe', 'Philip Kaufman', 'Fraser C. Heston', 'François Simard', 'Brandon Guiles', 'Jason William Lee', 'Charles Guard', 'Gerard McMurray', 'Camilla Belle', 'Michael Rymer', 'Malcolm D. Lee', 'Yûichirô Hirakawa', 'Roy Ward Baker', 'Braden R. Duemmler', 'Leigh Whannell', 'Nelson McCormick', 'James Wan', 'Wes Craven', 'Sam Raimi', 'John Pogue', 'Cate Shortland', 'Paul McGuigan', 'Assaf Bernstein', 'Franck Khalfoun', 'Nicholas McCarthy', 'Oz Perkins', 'Justin Benson', 'Greg McLean', 'F.W. Murnau', 'Ari Aster', 'Ken Russell', 'Tony Giglio', 'Peter Hyams', 'Johannes Roberts', 'Kim Henkel', 'Tim Burton', 'James DeMonaco', 'David Zucker', 'Frank Oz', 'Tod Browning', 'Scott Stewart', 'Alexandre Aja', 'David S. Goyer', 'David Hackl', 'Scott Derrickson', 'Terry Gilliam', 'Ana Lily Amirpour', 'Luiso Berdejo', 'Severin Fiala', 'Danishka Esterhazy', 'Oz Rodriguez', 'Olatunde Osunsanmi', 'Rob Zombie', 'Michael Spierig', 'Lewis Teague', 'Donato Carrisi', 'David R. Ellis', 'George A. Romero', 'William Brent Bell', 'Ant Timpson', 'Amy Seimetz', 'M.J. Bassett', 'Måns Mårlind', 'Greg McLean', 'John Carpenter', 'Adam Wingard', 'Sylvain White', 'Brannon Braga', 'Stephen Chiodo', 'Stephen Sommers', 'Antonia Johnstone', 'Greg Berlanti', 'Derek Drymon', 'Stephen Cognetti', 'John Stockwell', 'Kevin Phillips', 'Stuart Rosenberg', 'Travis Stevens', 'Tony Scott', 'Steve Miner', 'Robert Aldrich', 'Stephen Sommers', 'Stuart Gordon', 'Timothy Woodward Jr.', 'Victor Salva', 'Phillip Noyce', 'Brian Taylor', 'Neil Marshall', 'Jee-woon Kim', 'Joko Anwar', 'Henry Jacobson', 'Alexandre Bustillo', 'Jonathan Liebesman', 'Levan Gabriadze', 'Joseph Zito', 'Will Wernick', 'Jack Sholder', 'Robert Bierman', 'Christophe Gans', 'Mitchell Lichtenstein', 'David Cronenberg', 'Rodrigo Cortés', 'Ciarán Foy', 'John McPhail', 'Henry Joost', 'Rob Zombie', 'Ronny Yu', 'David Zucker', 'Sean Byrne', 'Joe Johnston', 'Mike Ahern', 'Dan Curtis', 'Rodman Flender', 'Mark Jones', 'John Carpenter', 'James Whale', 'Sean Ellis', 'Allan Holzman', 'Daniel Stamm', 'Sophia Takal', 'Babak Anvari', 'Damien LeVeck', 'Ovidio G. Assonitis', 'John Polson', 'Tony Randel', 'Joel Schumacher', 'Christian Nyby', 'David Nutter', 'David Koepp', 'Mick Garris', 'Joe Begos', 'Joe Dante', 'Marcus Dunstan', 'Antonia Bird', 'Jen Soska', 'Nimród Antal', 'Tom Six', 'M.J. Bassett', 'Anthony Hickox', 'Stephen Susco', 'Nobuhiko Ôbayashi', 'Gregory Widen', 'Gus Van Sant', 'Malik Vitthal', 'Bruce D. Clark', 'Stephen Herek', 'Yasushi Kawamura', 'William Malone', 'Lars Damoiseaux', 'George A. Romero', 'Joe Lynch', 'Takashi Miike', 'Kurtis David Harder', 'John Fawcett', 'Alexandre Aja', 'John Moore', 'Chan-wook Park', 'Marjane Satrapi', 'J.D. Dillard', 'Daniel Attias', 'Brett Leonard', 'Michael Spierig', 'Barry Levinson', 'Neil Jordan', 'Kevin Greutert', 'Wes Craven', 'Jeffrey Grellman', 'Pascal Laugier', 'Rick Rosenthal', 'Jens Dahl', 'David Amito', 'Renny Harlin', 'Matthew Holness', 'Catherine Hardwicke', 'Tyler Shields', 'Matteo Garrone', 'Tom Six', 'Frank Marshall', 'Rodrigo Cortés', 'Tony Maylam', 'Alexandre Bustillo', 'Henry Hobson', 'Michael Dougherty', 'Thomas Robert Lee', 'William Kaufman', 'Phillip G. Carroll Jr.', 'Danny Cannon', 'John Carpenter', 'Renny Harlin', 'Rob Hedden', 'John Erick Dowdle', 'James Isaac', 'Victor Salva', 'Adrian Shergold', 'Steve Box', 'Adam Marcus', 'David Cronenberg', 'Rupert Wainwright', 'William Friedkin', 'Ted Nicolaou', 'Kurt Wimmer', 'Greg McLean', 'Lodewijk Crijns', 'Aaron Fjellman', 'Lucky McKee', 'Kevin Smith', 'William Peter Blatty', 'Shinji Higuchi', 'Rob Minkoff', 'Bradley Parker', 'Olaf de Fleur Johannesson', 'Joe Begos', 'Michael Mann', 'Iain Softley', 'George A. Romero', 'Jonathan Milott', 'Lars Klevberg', 'Abe Forsythe', 'Mike Flanagan', 'Nicholas Danko', 'Uwe Boll', 'André Øvredal', 'Jaco Bouwer', 'Edward D. Wood Jr.', 'Bob Clark', 'Paul Schrader', 'Claudio Fragasso', 'Stiles White', 'Ken Russell', 'David Gelb', 'Andrew Traucki', 'Henry Joost', 'Jack Arnold', 'Giles Alderson', 'Diederik Van Rooijen', 'Neil LaBute', 'Joseph Ruben', 'Tom Holland', 'Jon Stevenson', 'Wes Craven', 'Jon Knautz', 'Xavier Gens', 'Mark Pellington', 'Fatih Akin', 'Amy Holden Jones', 'Robert Wiene', 'Colin Minihan', 'Hiroshi Harada', 'Peter Jackson', 'Panos Cosmatos', 'George Sluizer', 'Anthony Waller', 'Darren Lynn Bousman', 'William Peter Blatty', 'Guillermo del Toro', 'Colin Minihan', 'Michael A. Simpson', 'John Lafia', 'Adam Robitel', 'Matt Angel', 'Don Coscarelli', 'Greg Tiernan', 'R.D. Braunstein', 'Kimo Stamboel', 'Renny Harlin', 'Hideo Nakata', 'Mike P. Nelson', 'Tod Browning', 'David Cronenberg', 'Quentin Dupieux', 'Nacho Vigalondo', 'Brad Anderson', 'Danny Steinmann', 'Nicholas McCarthy', 'Walter Hill', 'Roman Polanski', 'Dan Bush', 'Bert L. Dragin', 'Dwight H. Little', 'Chris Gorak', 'Adam Egypt Mortimer', 'Ben Wheatley', 'Ryûhei Kitamura', 'Anthony Hall', 'Darren Lynn Bousman', 'Patrick Brice', 'David Lynch', 'Scott Derrickson', 'Albert Pyun', 'James Whale', 'Jordan Rubin', 'William Brent Bell', 'Kevin Goetz', 'Jonathan Levine', 'F. Javier Gutiérrez', 'Ti West', 'Tom McLoughlin', 'Joe May', 'James Bond III', 'Leigh Janiak', 'Kevin Smith', 'Neil Jordan', 'Justin Simien', 'Guillermo del Toro', 'Richard Franklin', 'Joe Marcantonio', 'David R. Ellis', 'Ole Bornedal', 'Dario Argento', 'Wes Craven', 'Wes Craven', 'Kevin Tenney', 'Bruce Hunt', 'Padraig Reynolds', 'Brandon Cronenberg', 'Ellory Elkayem', 'James Nguyen', 'Tommy Lee Wallace', 'Tim Burton', 'Ate de Jong', 'Gonzalo López-Gallego', 'Takashi Miike', 'Ken Dixon', 'Hideo Nakata', 'Nicolas Gessner', 'Owen Egerton', 'John Stockwell', 'Sidney J. Furie', 'John Carpenter', 'Anthony Scott Burns', 'Adam MacDonald', 'Lamberto Bava', 'Rachel Talalay', 'Nora Unkel', 'Bryan Forbes', 'Domenico Emanuele de Feudis', 'Nick Murphy', 'Adam Schindler', 'Chris Kentis', 'Michael Herz', 'Steve Miner', 'Paul Lynch', 'Roman Polanski', 'Adam Green', 'Michael P. Blevins', 'Jon Harris', 'George A. Romero', 'William Brent Bell', 'Chelsea Stardust', 'Greg Nicotero', 'Stefan Ruzowitzky', 'Michele Massimo Tarantini', 'David Gordon Green', 'Tony Maylam', 'Steve Miner', 'Jim Wynorski', 'Jesús Franco', 'Mark L. Lester', 'Jeremy Dyson', 'Todd McFarlane', 'Joel Anderson', 'Stuart Gordon', 'David Hackl', 'John McNaughton', 'Lawrence Raghavendra', 'Ninian Doff', 'Malgorzata Szumowska', 'Guillermo del Toro', 'Paul Hyett', 'Jesús Franco', 'Elliot Silverstein', 'Stephan Rick', 'Demián Rugna', 'Clay Staub', 'Lucio Fulci', 'Don Siegel', 'Marcel Sarmiento', 'James Signorelli', 'Miguel Ángel Vivas', 'Tom Paton', 'Tom Elkins', 'Werner Herzog', 'Dario Argento', 'Mel Brooks', 'Jonathan Liebesman', 'Ben Wheatley', 'Albert Lewin', 'David Cronenberg', 'Bradley King', 'Don Edmonds', 'Don Mancini', \"Shin'ya Tsukamoto\", 'Don Mancini', 'Kaare Andrews', 'David Nerlich', 'Don Mancini', 'Mikael Håfström', 'Stewart Hendler', 'Wes Craven', 'Simon Barrett', 'Takao Okawara', 'Todd Lincoln', 'Banjong Pisanthanakun', 'John Carl Buechler', 'Lucky McKee', 'John Carl Buechler', 'Lee Cronin', 'Walerian Borowczyk', 'Jason Zada', 'Don Taylor', 'Eli Craig', 'Brian De Palma', 'Tod Williams', 'John Gulager', 'Dennis Iliadis', 'Michael Dougherty', 'Álex de la Iglesia', 'Kevin McManus', 'Michael Tiddes', 'Richard Attenborough', 'Drew Casson', 'Marcus Dunstan', 'Alexander Henderson', 'Michael Gornick', 'Jon Watts', 'Will Canon', 'Sebastian Gutierrez', 'Jordan Peele', 'Olivier Assayas', 'Mary Lambert', 'Richard Bates Jr.', 'Nicolas Pesce', 'Barbara Peeters', 'Peter Medak', 'Alejandro Jodorowsky', 'Tiago Mesquita', 'Ron Link', 'Daniel Calparsoro', 'John R. Leonetti', 'Meir Zarchi', 'Oz Perkins', 'Babak Anvari', 'John Murlowski', 'Rob Zombie', 'John Hyams', 'Tobe Hooper', 'Fritz Böhm', 'Ari Sandel', 'Brad Anderson', 'Michael Powell', 'Thom Eberhardt', 'Jack Heller', 'Xavier Gens', 'Gregory Plotkin', 'Rob Zombie', 'Rupert Wainwright', 'Franck Khalfoun', 'George Pavlou', 'Antti Jokinen', \"Shin'ichirô Ueda\", 'Anvita Dutt', 'Martin Barnewitz', 'David Blue Garcia', 'Nicolas Pesce', 'Fred Walton', 'Ernest R. Dickerson', 'Karl Holt', 'Anne Goursaud', 'Henry Joost', 'William Castle', 'Jennifer Lynch', 'Robert Wise', 'Wes Craven', 'Amy Heckerling', 'Jim Sonzero', 'Ernie Barbarash', 'Stacy Title', 'Larry Cohen', 'Leigh Whannell', 'Juan Piquer Simón', 'William Lustig', 'Mark Rosman', 'Doug Murphy', 'Tyler Perry', 'Chris Carter']\n"
          ],
          "name": "stdout"
        }
      ]
    },
    {
      "cell_type": "code",
      "metadata": {
        "colab": {
          "base_uri": "https://localhost:8080/",
          "height": 204
        },
        "id": "1L55eisLHqsf",
        "outputId": "5426fb3b-185f-4c3b-e5b9-b3b70ba98f0c"
      },
      "source": [
        "import pandas as pd\r\n",
        "my_dict = {'Movie_name': movie_title,\r\n",
        "           'Release_year': Year_of_release,\r\n",
        "           'Movie_rating': movie_rating,\r\n",
        "           'Movie_genre': movie_genre,\r\n",
        "           'Metascore': MetaScore,\r\n",
        "           'Movie_runtime': movie_runtime,\r\n",
        "           'Director of movie': movie_director}\r\n",
        "movie_All = pd.DataFrame({ key:pd.Series(value) for key, value in my_dict.items() })\r\n",
        "movie_All.to_csv('movies.csv', index=False, encoding='utf-8')\r\n",
        "movie_All.head()"
      ],
      "execution_count": 10,
      "outputs": [
        {
          "output_type": "execute_result",
          "data": {
            "text/html": [
              "<div>\n",
              "<style scoped>\n",
              "    .dataframe tbody tr th:only-of-type {\n",
              "        vertical-align: middle;\n",
              "    }\n",
              "\n",
              "    .dataframe tbody tr th {\n",
              "        vertical-align: top;\n",
              "    }\n",
              "\n",
              "    .dataframe thead th {\n",
              "        text-align: right;\n",
              "    }\n",
              "</style>\n",
              "<table border=\"1\" class=\"dataframe\">\n",
              "  <thead>\n",
              "    <tr style=\"text-align: right;\">\n",
              "      <th></th>\n",
              "      <th>Movie_name</th>\n",
              "      <th>Release_year</th>\n",
              "      <th>Movie_rating</th>\n",
              "      <th>Movie_genre</th>\n",
              "      <th>Metascore</th>\n",
              "      <th>Movie_runtime</th>\n",
              "      <th>Director of movie</th>\n",
              "    </tr>\n",
              "  </thead>\n",
              "  <tbody>\n",
              "    <tr>\n",
              "      <th>0</th>\n",
              "      <td>Wrong Turn</td>\n",
              "      <td>(2021)</td>\n",
              "      <td>5.4</td>\n",
              "      <td>Horror, Thriller</td>\n",
              "      <td>46</td>\n",
              "      <td>109 min</td>\n",
              "      <td>Mike P. Nelson</td>\n",
              "    </tr>\n",
              "    <tr>\n",
              "      <th>1</th>\n",
              "      <td>Willy's Wonderland</td>\n",
              "      <td>(2021)</td>\n",
              "      <td>5.6</td>\n",
              "      <td>Action, Comedy, Horror</td>\n",
              "      <td>42</td>\n",
              "      <td>88 min</td>\n",
              "      <td>Kevin Lewis</td>\n",
              "    </tr>\n",
              "    <tr>\n",
              "      <th>2</th>\n",
              "      <td>Red Dot</td>\n",
              "      <td>(2021)</td>\n",
              "      <td>5.4</td>\n",
              "      <td>Drama, Horror, Thriller</td>\n",
              "      <td>NA</td>\n",
              "      <td>86 min</td>\n",
              "      <td>Alain Darborg</td>\n",
              "    </tr>\n",
              "    <tr>\n",
              "      <th>3</th>\n",
              "      <td>Saint Maud</td>\n",
              "      <td>(2019)</td>\n",
              "      <td>6.8</td>\n",
              "      <td>Drama, Horror, Mystery</td>\n",
              "      <td>83</td>\n",
              "      <td>84 min</td>\n",
              "      <td>Rose Glass</td>\n",
              "    </tr>\n",
              "    <tr>\n",
              "      <th>4</th>\n",
              "      <td>Freaky</td>\n",
              "      <td>(2020)</td>\n",
              "      <td>6.3</td>\n",
              "      <td>Comedy, Horror, Thriller</td>\n",
              "      <td>66</td>\n",
              "      <td>102 min</td>\n",
              "      <td>Christopher Landon</td>\n",
              "    </tr>\n",
              "  </tbody>\n",
              "</table>\n",
              "</div>"
            ],
            "text/plain": [
              "           Movie_name Release_year  ... Movie_runtime   Director of movie\n",
              "0          Wrong Turn       (2021)  ...       109 min      Mike P. Nelson\n",
              "1  Willy's Wonderland       (2021)  ...        88 min         Kevin Lewis\n",
              "2             Red Dot       (2021)  ...        86 min       Alain Darborg\n",
              "3          Saint Maud       (2019)  ...        84 min          Rose Glass\n",
              "4              Freaky       (2020)  ...       102 min  Christopher Landon\n",
              "\n",
              "[5 rows x 7 columns]"
            ]
          },
          "metadata": {
            "tags": []
          },
          "execution_count": 10
        }
      ]
    }
  ]
}