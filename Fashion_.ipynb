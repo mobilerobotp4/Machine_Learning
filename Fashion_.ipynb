{
  "nbformat": 4,
  "nbformat_minor": 0,
  "metadata": {
    "colab": {
      "name": "Fashion .ipynb",
      "provenance": [],
      "authorship_tag": "ABX9TyNhibCnuWTNSc1VUY28sXdS",
      "include_colab_link": true
    },
    "kernelspec": {
      "name": "python3",
      "display_name": "Python 3"
    }
  },
  "cells": [
    {
      "cell_type": "markdown",
      "metadata": {
        "id": "view-in-github",
        "colab_type": "text"
      },
      "source": [
        "<a href=\"https://colab.research.google.com/github/mobilerobotp4/Machine_Learning/blob/master/Fashion_.ipynb\" target=\"_parent\"><img src=\"https://colab.research.google.com/assets/colab-badge.svg\" alt=\"Open In Colab\"/></a>"
      ]
    },
    {
      "cell_type": "markdown",
      "metadata": {
        "id": "FvoE76zeX5Va"
      },
      "source": [
        "**Implementing Neural Network Using Stochastic Gradient descent optimizer**\r\n",
        "Dataset: https://keras.io/api/datasets/fashion_mnist/#fashion-mnist-dataset-an-alternative-to-mnist"
      ]
    },
    {
      "cell_type": "code",
      "metadata": {
        "id": "C6LPX_6Px9Q6"
      },
      "source": [
        "import matplotlib.pyplot as plt\r\n",
        "from sklearn.model_selection import train_test_split\r\n",
        "from keras.datasets import fashion_mnist\r\n",
        "from keras.models import Sequential\r\n",
        "from keras.utils.np_utils import to_categorical"
      ],
      "execution_count": 9,
      "outputs": []
    },
    {
      "cell_type": "code",
      "metadata": {
        "colab": {
          "base_uri": "https://localhost:8080/"
        },
        "id": "XZil6Tlx1e6B",
        "outputId": "82aa0b36-8647-4e18-f499-0b68653c636c"
      },
      "source": [
        " (x_train, y_train), (x_test, y_test)=fashion_mnist.load_data()"
      ],
      "execution_count": 2,
      "outputs": [
        {
          "output_type": "stream",
          "text": [
            "Downloading data from https://storage.googleapis.com/tensorflow/tf-keras-datasets/train-labels-idx1-ubyte.gz\n",
            "32768/29515 [=================================] - 0s 0us/step\n",
            "Downloading data from https://storage.googleapis.com/tensorflow/tf-keras-datasets/train-images-idx3-ubyte.gz\n",
            "26427392/26421880 [==============================] - 0s 0us/step\n",
            "Downloading data from https://storage.googleapis.com/tensorflow/tf-keras-datasets/t10k-labels-idx1-ubyte.gz\n",
            "8192/5148 [===============================================] - 0s 0us/step\n",
            "Downloading data from https://storage.googleapis.com/tensorflow/tf-keras-datasets/t10k-images-idx3-ubyte.gz\n",
            "4423680/4422102 [==============================] - 0s 0us/step\n"
          ],
          "name": "stdout"
        }
      ]
    },
    {
      "cell_type": "code",
      "metadata": {
        "colab": {
          "base_uri": "https://localhost:8080/",
          "height": 100
        },
        "id": "6HaNtD9s228C",
        "outputId": "ad3735c2-34cd-430f-a86f-5908f905623f"
      },
      "source": [
        "#Visualizing the first 10 images in the dataset and their labels\r\n",
        "%matplotlib inline\r\n",
        "import matplotlib.pyplot as plt\r\n",
        "n=15\r\n",
        "plt.figure(figsize=[10,1])\r\n",
        "for i in range(n):\r\n",
        "  plt.subplot(1,n,i+1)\r\n",
        "  plt.imshow(x_train[i]) # cmap=\"gray\" for gray scale image\r\n",
        "  plt.axis(\"on\")\r\n",
        "plt.show()\r\n",
        "print('label for each of the above image is', y_train[0:n])\r\n",
        "\r\n"
      ],
      "execution_count": 82,
      "outputs": [
        {
          "output_type": "display_data",
          "data": {
            "image/png": "[encoded data removed]",
            "text/plain": [
              "<Figure size 720x72 with 15 Axes>"
            ]
          },
          "metadata": {
            "tags": [],
            "needs_background": "light"
          }
        },
        {
          "output_type": "stream",
          "text": [
            "label for each of the above image is [9 0 0 3 0 2 7 2 5 5 0 9 5 5 7]\n"
          ],
          "name": "stdout"
        }
      ]
    },
    {
      "cell_type": "code",
      "metadata": {
        "colab": {
          "base_uri": "https://localhost:8080/"
        },
        "id": "S9bEx3sQECtG",
        "outputId": "4216ad41-f74b-43ea-bc37-a4f217631599"
      },
      "source": [
        "x_train.shape,y_train.shape"
      ],
      "execution_count": 61,
      "outputs": [
        {
          "output_type": "execute_result",
          "data": {
            "text/plain": [
              "((60000, 28, 28), (60000,))"
            ]
          },
          "metadata": {
            "tags": []
          },
          "execution_count": 61
        }
      ]
    },
    {
      "cell_type": "code",
      "metadata": {
        "colab": {
          "base_uri": "https://localhost:8080/"
        },
        "id": "kEoN_-62roXy",
        "outputId": "658ef1c2-61f1-46d6-d279-c53fa36e4a49"
      },
      "source": [
        "#Data Pre-processing\r\n",
        "#reshape x data: (n,28,28) -> (n,784)\r\n",
        "x_train=x_train.reshape(x_train.shape[0],-1)\r\n",
        "x_test= x_test.reshape(x_test.shape[0],-1)\r\n",
        "print(x_train.shape,x_test.shape)\r\n",
        "#Converting y data into categorical (one-hot encoding)\r\n",
        "y_train = to_categorical(y_train)\r\n",
        "y_test=to_categorical(y_test)\r\n",
        "print(y_train.shape,y_test.shape)\r\n",
        "#print(y_train)"
      ],
      "execution_count": 3,
      "outputs": [
        {
          "output_type": "stream",
          "text": [
            "(60000, 784) (10000, 784)\n",
            "(60000, 10) (10000, 10)\n"
          ],
          "name": "stdout"
        }
      ]
    },
    {
      "cell_type": "code",
      "metadata": {
        "id": "Gq5YClbrvpVv"
      },
      "source": [
        "from keras.models import Sequential\r\n",
        "from keras.layers import Activation, Dense\r\n",
        "from keras import optimizers"
      ],
      "execution_count": 4,
      "outputs": []
    },
    {
      "cell_type": "code",
      "metadata": {
        "id": "nSk6NzsVwNLw"
      },
      "source": [
        "model = Sequential()"
      ],
      "execution_count": 5,
      "outputs": []
    },
    {
      "cell_type": "code",
      "metadata": {
        "id": "xq2eBmhiwWkw"
      },
      "source": [
        "model.add(Dense(50, input_shape=(784,)))\r\n",
        "model.add(Activation('sigmoid'))\r\n",
        "model.add(Dense(50))\r\n",
        "model.add(Activation('sigmoid'))\r\n",
        "model.add(Dense(50))\r\n",
        "model.add(Activation('sigmoid'))\r\n",
        "model.add(Dense(50))\r\n",
        "model.add(Activation('sigmoid'))\r\n",
        "model.add(Dense(10))\r\n",
        "model.add(Activation('softmax'))"
      ],
      "execution_count": 6,
      "outputs": []
    },
    {
      "cell_type": "code",
      "metadata": {
        "id": "XijylkeoACMN"
      },
      "source": [
        "sgd=optimizers.SGD(learning_rate=0.01)\r\n",
        "model.compile(optimizer=sgd,loss='categorical_crossentropy',metrics=['accuracy'])"
      ],
      "execution_count": 7,
      "outputs": []
    },
    {
      "cell_type": "code",
      "metadata": {
        "colab": {
          "base_uri": "https://localhost:8080/"
        },
        "id": "zMEzFXy1BQr8",
        "outputId": "1ebdedc8-f5fc-4688-da24-f1a63c1c24d0"
      },
      "source": [
        "model.fit(x_train,y_train,batch_size=200,epochs=100, verbose=1)"
      ],
      "execution_count": 8,
      "outputs": [
        {
          "output_type": "stream",
          "text": [
            "Epoch 1/100\n",
            "300/300 [==============================] - 2s 4ms/step - loss: 2.3244 - accuracy: 0.1022\n",
            "Epoch 2/100\n",
            "300/300 [==============================] - 1s 4ms/step - loss: 2.2983 - accuracy: 0.1328\n",
            "Epoch 3/100\n",
            "300/300 [==============================] - 1s 4ms/step - loss: 2.2960 - accuracy: 0.1319\n",
            "Epoch 4/100\n",
            "300/300 [==============================] - 1s 4ms/step - loss: 2.2939 - accuracy: 0.1759\n",
            "Epoch 5/100\n",
            "300/300 [==============================] - 1s 4ms/step - loss: 2.2915 - accuracy: 0.2370\n",
            "Epoch 6/100\n",
            "300/300 [==============================] - 1s 4ms/step - loss: 2.2889 - accuracy: 0.2629\n",
            "Epoch 7/100\n",
            "300/300 [==============================] - 1s 4ms/step - loss: 2.2862 - accuracy: 0.3151\n",
            "Epoch 8/100\n",
            "300/300 [==============================] - 1s 4ms/step - loss: 2.2830 - accuracy: 0.2813\n",
            "Epoch 9/100\n",
            "300/300 [==============================] - 1s 4ms/step - loss: 2.2794 - accuracy: 0.3446\n",
            "Epoch 10/100\n",
            "300/300 [==============================] - 1s 4ms/step - loss: 2.2750 - accuracy: 0.3257\n",
            "Epoch 11/100\n",
            "300/300 [==============================] - 1s 4ms/step - loss: 2.2698 - accuracy: 0.3963\n",
            "Epoch 12/100\n",
            "300/300 [==============================] - 1s 4ms/step - loss: 2.2635 - accuracy: 0.4199\n",
            "Epoch 13/100\n",
            "300/300 [==============================] - 1s 4ms/step - loss: 2.2551 - accuracy: 0.3942\n",
            "Epoch 14/100\n",
            "300/300 [==============================] - 1s 4ms/step - loss: 2.2445 - accuracy: 0.4377\n",
            "Epoch 15/100\n",
            "300/300 [==============================] - 1s 4ms/step - loss: 2.2300 - accuracy: 0.3508\n",
            "Epoch 16/100\n",
            "300/300 [==============================] - 1s 4ms/step - loss: 2.2099 - accuracy: 0.3908\n",
            "Epoch 17/100\n",
            "300/300 [==============================] - 1s 4ms/step - loss: 2.1812 - accuracy: 0.3283\n",
            "Epoch 18/100\n",
            "300/300 [==============================] - 1s 4ms/step - loss: 2.1420 - accuracy: 0.3293\n",
            "Epoch 19/100\n",
            "300/300 [==============================] - 1s 4ms/step - loss: 2.0892 - accuracy: 0.3637\n",
            "Epoch 20/100\n",
            "300/300 [==============================] - 1s 4ms/step - loss: 2.0214 - accuracy: 0.3358\n",
            "Epoch 21/100\n",
            "300/300 [==============================] - 1s 4ms/step - loss: 1.9425 - accuracy: 0.3586\n",
            "Epoch 22/100\n",
            "300/300 [==============================] - 1s 4ms/step - loss: 1.8650 - accuracy: 0.3394\n",
            "Epoch 23/100\n",
            "300/300 [==============================] - 1s 4ms/step - loss: 1.7972 - accuracy: 0.3478\n",
            "Epoch 24/100\n",
            "300/300 [==============================] - 1s 4ms/step - loss: 1.7409 - accuracy: 0.3644\n",
            "Epoch 25/100\n",
            "300/300 [==============================] - 1s 4ms/step - loss: 1.6940 - accuracy: 0.3735\n",
            "Epoch 26/100\n",
            "300/300 [==============================] - 1s 4ms/step - loss: 1.6532 - accuracy: 0.3508\n",
            "Epoch 27/100\n",
            "300/300 [==============================] - 1s 4ms/step - loss: 1.6199 - accuracy: 0.3981\n",
            "Epoch 28/100\n",
            "300/300 [==============================] - 1s 4ms/step - loss: 1.5888 - accuracy: 0.4023\n",
            "Epoch 29/100\n",
            "300/300 [==============================] - 1s 4ms/step - loss: 1.5625 - accuracy: 0.4247\n",
            "Epoch 30/100\n",
            "300/300 [==============================] - 1s 4ms/step - loss: 1.5340 - accuracy: 0.4682\n",
            "Epoch 31/100\n",
            "300/300 [==============================] - 1s 4ms/step - loss: 1.5121 - accuracy: 0.4410\n",
            "Epoch 32/100\n",
            "300/300 [==============================] - 1s 4ms/step - loss: 1.4887 - accuracy: 0.4616\n",
            "Epoch 33/100\n",
            "300/300 [==============================] - 1s 4ms/step - loss: 1.4708 - accuracy: 0.4782\n",
            "Epoch 34/100\n",
            "300/300 [==============================] - 1s 4ms/step - loss: 1.4458 - accuracy: 0.5102\n",
            "Epoch 35/100\n",
            "300/300 [==============================] - 1s 4ms/step - loss: 1.4278 - accuracy: 0.5230\n",
            "Epoch 36/100\n",
            "300/300 [==============================] - 1s 4ms/step - loss: 1.4027 - accuracy: 0.5389\n",
            "Epoch 37/100\n",
            "300/300 [==============================] - 1s 4ms/step - loss: 1.3851 - accuracy: 0.5485\n",
            "Epoch 38/100\n",
            "300/300 [==============================] - 1s 4ms/step - loss: 1.3629 - accuracy: 0.5517\n",
            "Epoch 39/100\n",
            "300/300 [==============================] - 1s 4ms/step - loss: 1.3392 - accuracy: 0.5656\n",
            "Epoch 40/100\n",
            "300/300 [==============================] - 1s 4ms/step - loss: 1.3176 - accuracy: 0.5842\n",
            "Epoch 41/100\n",
            "300/300 [==============================] - 1s 4ms/step - loss: 1.2905 - accuracy: 0.5830\n",
            "Epoch 42/100\n",
            "300/300 [==============================] - 1s 4ms/step - loss: 1.2659 - accuracy: 0.5957\n",
            "Epoch 43/100\n",
            "300/300 [==============================] - 1s 4ms/step - loss: 1.2376 - accuracy: 0.5998\n",
            "Epoch 44/100\n",
            "300/300 [==============================] - 1s 4ms/step - loss: 1.2135 - accuracy: 0.6158\n",
            "Epoch 45/100\n",
            "300/300 [==============================] - 1s 4ms/step - loss: 1.1858 - accuracy: 0.6181\n",
            "Epoch 46/100\n",
            "300/300 [==============================] - 1s 4ms/step - loss: 1.1562 - accuracy: 0.6446\n",
            "Epoch 47/100\n",
            "300/300 [==============================] - 1s 4ms/step - loss: 1.1355 - accuracy: 0.6563\n",
            "Epoch 48/100\n",
            "300/300 [==============================] - 1s 4ms/step - loss: 1.1167 - accuracy: 0.6745\n",
            "Epoch 49/100\n",
            "300/300 [==============================] - 1s 4ms/step - loss: 1.0781 - accuracy: 0.6896\n",
            "Epoch 50/100\n",
            "300/300 [==============================] - 1s 4ms/step - loss: 1.0526 - accuracy: 0.6935\n",
            "Epoch 51/100\n",
            "300/300 [==============================] - 1s 4ms/step - loss: 1.0350 - accuracy: 0.6991\n",
            "Epoch 52/100\n",
            "300/300 [==============================] - 1s 4ms/step - loss: 1.0063 - accuracy: 0.6991\n",
            "Epoch 53/100\n",
            "300/300 [==============================] - 1s 4ms/step - loss: 0.9834 - accuracy: 0.7052\n",
            "Epoch 54/100\n",
            "300/300 [==============================] - 1s 4ms/step - loss: 0.9660 - accuracy: 0.7071\n",
            "Epoch 55/100\n",
            "300/300 [==============================] - 1s 4ms/step - loss: 0.9551 - accuracy: 0.7078\n",
            "Epoch 56/100\n",
            "300/300 [==============================] - 1s 4ms/step - loss: 0.9371 - accuracy: 0.7093\n",
            "Epoch 57/100\n",
            "300/300 [==============================] - 1s 4ms/step - loss: 0.9213 - accuracy: 0.7164\n",
            "Epoch 58/100\n",
            "300/300 [==============================] - 1s 4ms/step - loss: 0.9120 - accuracy: 0.7133\n",
            "Epoch 59/100\n",
            "300/300 [==============================] - 1s 4ms/step - loss: 0.8959 - accuracy: 0.7179\n",
            "Epoch 60/100\n",
            "300/300 [==============================] - 1s 4ms/step - loss: 0.8791 - accuracy: 0.7253\n",
            "Epoch 61/100\n",
            "300/300 [==============================] - 1s 4ms/step - loss: 0.8702 - accuracy: 0.7278\n",
            "Epoch 62/100\n",
            "300/300 [==============================] - 1s 4ms/step - loss: 0.8602 - accuracy: 0.7283\n",
            "Epoch 63/100\n",
            "300/300 [==============================] - 1s 4ms/step - loss: 0.8458 - accuracy: 0.7337\n",
            "Epoch 64/100\n",
            "300/300 [==============================] - 1s 4ms/step - loss: 0.8356 - accuracy: 0.7368\n",
            "Epoch 65/100\n",
            "300/300 [==============================] - 1s 4ms/step - loss: 0.8219 - accuracy: 0.7385\n",
            "Epoch 66/100\n",
            "300/300 [==============================] - 1s 4ms/step - loss: 0.8145 - accuracy: 0.7394\n",
            "Epoch 67/100\n",
            "300/300 [==============================] - 1s 4ms/step - loss: 0.8072 - accuracy: 0.7366\n",
            "Epoch 68/100\n",
            "300/300 [==============================] - 1s 4ms/step - loss: 0.7969 - accuracy: 0.7417\n",
            "Epoch 69/100\n",
            "300/300 [==============================] - 1s 4ms/step - loss: 0.7839 - accuracy: 0.7457\n",
            "Epoch 70/100\n",
            "300/300 [==============================] - 1s 4ms/step - loss: 0.7861 - accuracy: 0.7424\n",
            "Epoch 71/100\n",
            "300/300 [==============================] - 1s 4ms/step - loss: 0.7805 - accuracy: 0.7450\n",
            "Epoch 72/100\n",
            "300/300 [==============================] - 1s 4ms/step - loss: 0.7894 - accuracy: 0.7390\n",
            "Epoch 73/100\n",
            "300/300 [==============================] - 1s 4ms/step - loss: 0.7737 - accuracy: 0.7505\n",
            "Epoch 74/100\n",
            "300/300 [==============================] - 1s 4ms/step - loss: 0.7650 - accuracy: 0.7474\n",
            "Epoch 75/100\n",
            "300/300 [==============================] - 1s 4ms/step - loss: 0.7545 - accuracy: 0.7527\n",
            "Epoch 76/100\n",
            "300/300 [==============================] - 1s 4ms/step - loss: 0.7567 - accuracy: 0.7489\n",
            "Epoch 77/100\n",
            "300/300 [==============================] - 1s 4ms/step - loss: 0.7388 - accuracy: 0.7550\n",
            "Epoch 78/100\n",
            "300/300 [==============================] - 1s 4ms/step - loss: 0.7599 - accuracy: 0.7396\n",
            "Epoch 79/100\n",
            "300/300 [==============================] - 1s 4ms/step - loss: 0.7464 - accuracy: 0.7519\n",
            "Epoch 80/100\n",
            "300/300 [==============================] - 1s 4ms/step - loss: 0.7391 - accuracy: 0.7543\n",
            "Epoch 81/100\n",
            "300/300 [==============================] - 1s 4ms/step - loss: 0.7387 - accuracy: 0.7507\n",
            "Epoch 82/100\n",
            "300/300 [==============================] - 1s 4ms/step - loss: 0.7413 - accuracy: 0.7525\n",
            "Epoch 83/100\n",
            "300/300 [==============================] - 1s 4ms/step - loss: 0.7215 - accuracy: 0.7528\n",
            "Epoch 84/100\n",
            "300/300 [==============================] - 1s 4ms/step - loss: 0.7242 - accuracy: 0.7592\n",
            "Epoch 85/100\n",
            "300/300 [==============================] - 1s 4ms/step - loss: 0.7336 - accuracy: 0.7550\n",
            "Epoch 86/100\n",
            "300/300 [==============================] - 1s 4ms/step - loss: 0.7283 - accuracy: 0.7556\n",
            "Epoch 87/100\n",
            "300/300 [==============================] - 1s 4ms/step - loss: 0.7323 - accuracy: 0.7366\n",
            "Epoch 88/100\n",
            "300/300 [==============================] - 1s 4ms/step - loss: 0.7201 - accuracy: 0.7551\n",
            "Epoch 89/100\n",
            "300/300 [==============================] - 1s 4ms/step - loss: 0.6992 - accuracy: 0.7594\n",
            "Epoch 90/100\n",
            "300/300 [==============================] - 1s 4ms/step - loss: 0.6938 - accuracy: 0.7638\n",
            "Epoch 91/100\n",
            "300/300 [==============================] - 1s 4ms/step - loss: 0.6902 - accuracy: 0.7664\n",
            "Epoch 92/100\n",
            "300/300 [==============================] - 1s 4ms/step - loss: 0.6931 - accuracy: 0.7610\n",
            "Epoch 93/100\n",
            "300/300 [==============================] - 1s 4ms/step - loss: 0.6656 - accuracy: 0.7744\n",
            "Epoch 94/100\n",
            "300/300 [==============================] - 1s 4ms/step - loss: 0.6667 - accuracy: 0.7741\n",
            "Epoch 95/100\n",
            "300/300 [==============================] - 1s 4ms/step - loss: 0.6653 - accuracy: 0.7748\n",
            "Epoch 96/100\n",
            "300/300 [==============================] - 1s 4ms/step - loss: 0.6751 - accuracy: 0.7708\n",
            "Epoch 97/100\n",
            "300/300 [==============================] - 1s 4ms/step - loss: 0.6534 - accuracy: 0.7759\n",
            "Epoch 98/100\n",
            "300/300 [==============================] - 1s 4ms/step - loss: 0.6510 - accuracy: 0.7761\n",
            "Epoch 99/100\n",
            "300/300 [==============================] - 1s 4ms/step - loss: 0.6554 - accuracy: 0.7683\n",
            "Epoch 100/100\n",
            "300/300 [==============================] - 1s 4ms/step - loss: 0.6477 - accuracy: 0.7745\n"
          ],
          "name": "stdout"
        },
        {
          "output_type": "execute_result",
          "data": {
            "text/plain": [
              "<tensorflow.python.keras.callbacks.History at 0x7fa8952901d0>"
            ]
          },
          "metadata": {
            "tags": []
          },
          "execution_count": 8
        }
      ]
    }
  ]
}